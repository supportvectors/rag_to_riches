{
 "cells": [
  {
   "cell_type": "code",
   "execution_count": 1,
   "metadata": {},
   "outputs": [
    {
     "data": {
      "text/html": [
       "\n",
       "<!-- Many of the styles here are inspired by: \n",
       "    https://towardsdatascience.com/10-practical-tips-you-need-to-know-to-personalize-jupyter-notebook-fbd202777e20 \n",
       "\n",
       "\n",
       "    On the author's local machine, these exist in the custom.css file. However, in order to keep uniform look and feel, \n",
       "    and at the request of participants, I have added it to this common import-file here.\n",
       "\n",
       "    -->\n",
       "\n",
       "<link href=\"https://fonts.googleapis.com/css?family=Lora:400,700|Montserrat:300\" rel=\"stylesheet\">\n",
       "\n",
       "<link href=\"https://fonts.googleapis.com/css2?family=Crimson+Pro&family=Literata&display=swap\" rel=\"stylesheet\">\n",
       "<style>\n",
       "\n",
       "\n",
       "#ipython_notebook::before{\n",
       " content:\"Rag to Riches\";\n",
       "        color: white;\n",
       "        font-weight: bold;\n",
       "        text-transform: uppercase;\n",
       "        font-family: 'Lora',serif;\n",
       "        font-size:16pt;\n",
       "        margin-bottom:15px;\n",
       "        margin-top:15px;\n",
       "\n",
       "}\n",
       "body > #header {\n",
       "    #background: #D15555;\n",
       "    background: linear-gradient(to bottom, indianred 0%, #fff 100%);\n",
       "    opacity: 0.8;\n",
       "\n",
       "}\n",
       "\n",
       "\n",
       ".navbar-default .navbar-nav > li > a, #kernel_indicator {\n",
       "    color: white;\n",
       "    transition: all 0.25s;\n",
       "    font-size:10pt;\n",
       "    font-family: sans-serif;\n",
       "    font-weight:normal;\n",
       "}\n",
       ".navbar-default {\n",
       "    padding-left:100px;\n",
       "    background: none;\n",
       "    border: none;\n",
       "}\n",
       "\n",
       "\n",
       "body > menubar-container {\n",
       "    background-color: wheat;\n",
       "}\n",
       "#ipython_notebook img{                                                                                        \n",
       "    display:block; \n",
       "\n",
       "    background: url(\"https://www.supportvectors.com/wp-content/uploads/2016/03/logo-poster-smaller.png\") no-repeat;\n",
       "    background-size: contain;\n",
       "\n",
       "    padding-left: 600px;\n",
       "    padding-right: 100px;\n",
       "\n",
       "    -moz-box-sizing: border-box;\n",
       "    box-sizing: border-box;\n",
       "}\n",
       "\n",
       "\n",
       "\n",
       "body {\n",
       " #font-family:  'Literata', serif;\n",
       "    font-family:'Lora', san-serif;\n",
       "    text-align: justify;\n",
       "    font-weight: 400;\n",
       "    font-size: 12pt;\n",
       "}\n",
       "\n",
       "iframe{\n",
       "    width:100%;\n",
       "    min-height:600px;\n",
       "}\n",
       "\n",
       "h1, h2, h3, h4, h5, h6 {\n",
       "# font-family: 'Montserrat', sans-serif;\n",
       " font-family:'Lora', serif;\n",
       " font-weight: 200;\n",
       " text-transform: uppercase;\n",
       " color: #EC7063 ;\n",
       "}\n",
       "\n",
       "h2 {\n",
       "    color: #000080;\n",
       "}\n",
       "\n",
       ".checkpoint_status, .autosave_status {\n",
       "    color:wheat;\n",
       "}\n",
       "\n",
       "#notebook_name {\n",
       "    font-weight: 600;\n",
       "    font-size:20pt;\n",
       "    text-variant:uppercase;\n",
       "    color: wheat; \n",
       "    margin-right:20px;\n",
       "    margin-left:-500px;\n",
       "}\n",
       "#notebook_name:hover {\n",
       "background-color: salmon;\n",
       "}\n",
       "\n",
       "\n",
       ".dataframe { /* dataframe atau table */\n",
       "    background: white;\n",
       "    box-shadow: 0px 1px 2px #bbb;\n",
       "}\n",
       ".dataframe thead th, .dataframe tbody td {\n",
       "    text-align: center;\n",
       "    padding: 1em;\n",
       "}\n",
       "\n",
       ".checkpoint_status, .autosave_status {\n",
       "    color:wheat;\n",
       "}\n",
       "\n",
       ".output {\n",
       "    align-items: center;\n",
       "}\n",
       "\n",
       "div.cell {\n",
       "    transition: all 0.25s;\n",
       "    border: none;\n",
       "    position: relative;\n",
       "    top: 0;\n",
       "}\n",
       "div.cell.selected, div.cell.selected.jupyter-soft-selected {\n",
       "    border: none;\n",
       "    background: transparent;\n",
       "    box-shadow: 0 6px 18px #aaa;\n",
       "    z-index: 10;\n",
       "    top: -10px;\n",
       "}\n",
       ".CodeMirror pre, .CodeMirror-dialog, .CodeMirror-dialog .CodeMirror-search-field, .terminal-app .terminal {\n",
       "    font-family: 'Hack' , serif; \n",
       "    font-weight: 500;\n",
       "    font-size: 14pt;\n",
       "}\n",
       "\n",
       "\n",
       "\n",
       "</style>    \n"
      ],
      "text/plain": [
       "<IPython.core.display.HTML object>"
      ]
     },
     "metadata": {},
     "output_type": "display_data"
    },
    {
     "data": {
      "text/markdown": [
       "\n",
       "\n",
       "<center><img src=\"https://d4x5p7s4.rocketcdn.me/wp-content/uploads/2016/03/logo-poster-smaller.png\"/> </center>\n",
       "<div style=\"color:#aaa;font-size:8pt\">\n",
       "<hr/>\n",
       "&copy; SupportVectors. All rights reserved. <blockquote>This notebook is the intellectual property of SupportVectors, and part of its training material. \n",
       "Only the participants in SupportVectors workshops are allowed to study the notebooks for educational purposes currently, but is prohibited from copying or using it for any other purposes without written permission.\n",
       "\n",
       "<b> These notebooks are chapters and sections from Asif Qamar's textbook that he is writing on Data Science. So we request you to not circulate the material to others.</b>\n",
       " </blockquote>\n",
       " <hr/>\n",
       "</div>\n",
       "\n"
      ],
      "text/plain": [
       "<IPython.core.display.Markdown object>"
      ]
     },
     "metadata": {},
     "output_type": "display_data"
    },
    {
     "name": "stdout",
     "output_type": "stream",
     "text": [
      "🎯 Project root: /Users/asifqamar/github/rag_to_riches\n",
      "📁 Working directory: /Users/asifqamar/github/rag_to_riches\n",
      "✅ Ready to import rag_to_riches modules!\n"
     ]
    }
   ],
   "source": [
    "%run supportvectors-common.ipynb"
   ]
  },
  {
   "cell_type": "code",
   "execution_count": 2,
   "metadata": {},
   "outputs": [
    {
     "name": "stderr",
     "output_type": "stream",
     "text": [
      "WARNING:root:No configuration file specified. Trying the default location\n",
      "WARNING:root:Loading configuration from /Users/asifqamar/github/rag_to_riches/config.yaml if it exists\n"
     ]
    },
    {
     "name": "stdout",
     "output_type": "stream",
     "text": [
      "🐾 Modules imported successfully!\n",
      "📁 Current working directory: /Users/asifqamar/github/rag_to_riches\n"
     ]
    }
   ],
   "source": [
    "# Import required modules\n",
    "from pathlib import Path\n",
    "import json\n",
    "from rag_to_riches.corpus.animals import AnimalQuote, AnimalWisdom, Animals\n",
    "from rag_to_riches.vectordb.embedded_vectordb import EmbeddedVectorDB\n",
    "from rag_to_riches.vectordb.embedder import SimpleTextEmbedder\n",
    "\n",
    "print(\"🐾 Modules imported successfully!\")\n",
    "print(\"📁 Current working directory:\", Path.cwd())"
   ]
  },
  {
   "cell_type": "code",
   "execution_count": 3,
   "metadata": {},
   "outputs": [
    {
     "name": "stderr",
     "output_type": "stream",
     "text": [
      "\u001b[32m2025-06-21 09:26:29\u001b[0m | \u001b[1mINFO    \u001b[0m | \u001b[36mrag_to_riches.vectordb.embedded_vectordb\u001b[0m:\u001b[36m__init__\u001b[0m:\u001b[36m58\u001b[0m - \u001b[1mConnected to embedded vector database at qdrant_db\u001b[0m\n"
     ]
    },
    {
     "name": "stdout",
     "output_type": "stream",
     "text": [
      "🔧 Initializing Shared Components for the Entire Notebook\n",
      "============================================================\n",
      "1️⃣ Initializing Vector Database (Qdrant)...\n",
      "   ✅ Vector database connected and ready for reuse\n",
      "\n",
      "2️⃣ Initializing Text Embedder (Sentence Transformers)...\n"
     ]
    },
    {
     "name": "stderr",
     "output_type": "stream",
     "text": [
      "\u001b[32m2025-06-21 09:26:30\u001b[0m | \u001b[1mINFO    \u001b[0m | \u001b[36mrag_to_riches.vectordb.embedder\u001b[0m:\u001b[36m__init__\u001b[0m:\u001b[36m115\u001b[0m - \u001b[1mInitialized SimpleTextEmbedder with model 'sentence-transformers/all-MiniLM-L6-v2', vector size: 384\u001b[0m\n",
      "\u001b[32m2025-06-21 09:26:30\u001b[0m | \u001b[1mINFO    \u001b[0m | \u001b[36mrag_to_riches.vectordb.embedded_vectordb\u001b[0m:\u001b[36m_ensure_existing_collection_matches\u001b[0m:\u001b[36m464\u001b[0m - \u001b[1mCollection 'animals' exists with correct parameters\u001b[0m\n",
      "\u001b[32m2025-06-21 09:26:30\u001b[0m | \u001b[1mINFO    \u001b[0m | \u001b[36mrag_to_riches.vectordb.embedded_vectordb\u001b[0m:\u001b[36mget_collection_info\u001b[0m:\u001b[36m295\u001b[0m - \u001b[1mRetrieved info for collection 'animals'\u001b[0m\n",
      "\u001b[32m2025-06-21 09:26:30\u001b[0m | \u001b[1mINFO    \u001b[0m | \u001b[36mrag_to_riches.search.semantic_search\u001b[0m:\u001b[36mconsistency_check\u001b[0m:\u001b[36m233\u001b[0m - \u001b[1mConsistency check passed for collection 'animals'\u001b[0m\n",
      "\u001b[32m2025-06-21 09:26:30\u001b[0m | \u001b[1mINFO    \u001b[0m | \u001b[36mrag_to_riches.search.semantic_search\u001b[0m:\u001b[36m__init__\u001b[0m:\u001b[36m182\u001b[0m - \u001b[1mInitialized SemanticSearch for collection 'animals' with SimpleTextEmbedder\u001b[0m\n",
      "\u001b[32m2025-06-21 09:26:30\u001b[0m | \u001b[1mINFO    \u001b[0m | \u001b[36mrag_to_riches.corpus.animals\u001b[0m:\u001b[36m__init__\u001b[0m:\u001b[36m208\u001b[0m - \u001b[1mInitialized Animals corpus loader for collection 'animals'\u001b[0m\n"
     ]
    },
    {
     "name": "stdout",
     "output_type": "stream",
     "text": [
      "   ✅ Embedder loaded: sentence-transformers/all-MiniLM-L6-v2\n",
      "   📐 Vector dimensions: 384\n",
      "   📏 Distance metric: Cosine\n",
      "🔧 Creating Animals corpus loader using shared components...\n"
     ]
    }
   ],
   "source": [
    "# 🚀 Initialize Shared Components (Vector Database & Embedder)\n",
    "# ============================================================================\n",
    "# We initialize these components ONCE at the beginning to avoid database lock issues\n",
    "# and reuse them throughout the notebook for efficiency and consistency.\n",
    "\n",
    "print(\"🔧 Initializing Shared Components for the Entire Notebook\")\n",
    "print(\"=\" * 60)\n",
    "\n",
    "# Initialize Vector Database (shared instance)\n",
    "print(\"1️⃣ Initializing Vector Database (Qdrant)...\")\n",
    "vector_db = EmbeddedVectorDB()\n",
    "print(\"   ✅ Vector database connected and ready for reuse\")\n",
    "\n",
    "# Initialize Text Embedder (shared instance)  \n",
    "print(\"\\n2️⃣ Initializing Text Embedder (Sentence Transformers)...\")\n",
    "embedder = SimpleTextEmbedder(model_name=\"sentence-transformers/all-MiniLM-L6-v2\")\n",
    "print(f\"   ✅ Embedder loaded: {embedder.model_name}\")\n",
    "print(f\"   📐 Vector dimensions: {embedder.get_vector_size()}\")\n",
    "print(f\"   📏 Distance metric: {embedder.get_distance_metric()}\")\n",
    "\n",
    "# 📚 Load and Index Animal Quotes Using Shared Components\n",
    "print(\"🔧 Creating Animals corpus loader using shared components...\")\n",
    "animals = Animals(\n",
    "    vector_db=vector_db,  # Reusing shared vector_db instance\n",
    "    embedder=embedder,    # Reusing shared embedder instance\n",
    ")\n",
    "\n",
    "\n"
   ]
  },
  {
   "cell_type": "code",
   "execution_count": 4,
   "metadata": {},
   "outputs": [
    {
     "name": "stderr",
     "output_type": "stream",
     "text": [
      "\u001b[32m2025-06-21 09:26:30\u001b[0m | \u001b[1mINFO    \u001b[0m | \u001b[36mrag_to_riches.vectordb.embedded_vectordb\u001b[0m:\u001b[36msearch_points\u001b[0m:\u001b[36m408\u001b[0m - \u001b[1mFound 4 points in collection 'animals'\u001b[0m\n",
      "\u001b[32m2025-06-21 09:26:30\u001b[0m | \u001b[1mINFO    \u001b[0m | \u001b[36mrag_to_riches.search.semantic_search\u001b[0m:\u001b[36msearch_with_text\u001b[0m:\u001b[36m347\u001b[0m - \u001b[1mText search for 'a friendship with animals...' returned 4 results\u001b[0m\n",
      "\u001b[32m2025-06-21 09:26:30\u001b[0m | \u001b[1mINFO    \u001b[0m | \u001b[36mrag_to_riches.corpus.animals\u001b[0m:\u001b[36msearch\u001b[0m:\u001b[36m416\u001b[0m - \u001b[1mAnimal quotes search for 'a friendship with animals...' returned 4 results\u001b[0m\n"
     ]
    },
    {
     "data": {
      "text/html": [
       "<pre style=\"white-space:pre;overflow-x:auto;line-height:normal;font-family:Menlo,'DejaVu Sans Mono',consolas,'Courier New',monospace\"><span style=\"font-style: italic\">                                         🔍 Basic Semantic Search Results                                          </span>\n",
       "<span style=\"color: #000080; text-decoration-color: #000080\">┏━━━━━━━━┳━━━━━━━━━━━━━┳━━━━━━━━━━━━━━━━━━━━━━━━━━━━━━━━━━━━━━━━━━━━━━━━━━━━━┳━━━━━━━━━━━━━━━━━┳━━━━━━━━━━━━━━━━━━┓</span>\n",
       "<span style=\"color: #000080; text-decoration-color: #000080\">┃</span><span style=\"color: #800080; text-decoration-color: #800080; font-weight: bold\">        </span><span style=\"color: #000080; text-decoration-color: #000080\">┃</span><span style=\"color: #800080; text-decoration-color: #800080; font-weight: bold\">             </span><span style=\"color: #000080; text-decoration-color: #000080\">┃</span><span style=\"color: #800080; text-decoration-color: #800080; font-weight: bold\">                                                     </span><span style=\"color: #000080; text-decoration-color: #000080\">┃</span><span style=\"color: #800080; text-decoration-color: #800080; font-weight: bold\">                 </span><span style=\"color: #000080; text-decoration-color: #000080\">┃</span><span style=\"color: #800080; text-decoration-color: #800080; font-weight: bold\">                  </span><span style=\"color: #000080; text-decoration-color: #000080\">┃</span>\n",
       "<span style=\"color: #000080; text-decoration-color: #000080\">┃</span><span style=\"color: #800080; text-decoration-color: #800080; font-weight: bold\">   #    </span><span style=\"color: #000080; text-decoration-color: #000080\">┃</span><span style=\"color: #800080; text-decoration-color: #800080; font-weight: bold\">    Score    </span><span style=\"color: #000080; text-decoration-color: #000080\">┃</span><span style=\"color: #800080; text-decoration-color: #800080; font-weight: bold\">  Quote                                              </span><span style=\"color: #000080; text-decoration-color: #000080\">┃</span><span style=\"color: #800080; text-decoration-color: #800080; font-weight: bold\">  Author         </span><span style=\"color: #000080; text-decoration-color: #000080\">┃</span><span style=\"color: #800080; text-decoration-color: #800080; font-weight: bold\">  Category        </span><span style=\"color: #000080; text-decoration-color: #000080\">┃</span>\n",
       "<span style=\"color: #000080; text-decoration-color: #000080\">┃</span><span style=\"color: #800080; text-decoration-color: #800080; font-weight: bold\">        </span><span style=\"color: #000080; text-decoration-color: #000080\">┃</span><span style=\"color: #800080; text-decoration-color: #800080; font-weight: bold\">             </span><span style=\"color: #000080; text-decoration-color: #000080\">┃</span><span style=\"color: #800080; text-decoration-color: #800080; font-weight: bold\">                                                     </span><span style=\"color: #000080; text-decoration-color: #000080\">┃</span><span style=\"color: #800080; text-decoration-color: #800080; font-weight: bold\">                 </span><span style=\"color: #000080; text-decoration-color: #000080\">┃</span><span style=\"color: #800080; text-decoration-color: #800080; font-weight: bold\">                  </span><span style=\"color: #000080; text-decoration-color: #000080\">┃</span>\n",
       "<span style=\"color: #000080; text-decoration-color: #000080\">┡━━━━━━━━╇━━━━━━━━━━━━━╇━━━━━━━━━━━━━━━━━━━━━━━━━━━━━━━━━━━━━━━━━━━━━━━━━━━━━╇━━━━━━━━━━━━━━━━━╇━━━━━━━━━━━━━━━━━━┩</span>\n",
       "<span style=\"color: #000080; text-decoration-color: #000080\">│</span><span style=\"color: #800080; text-decoration-color: #800080\">        </span><span style=\"color: #000080; text-decoration-color: #000080\">│</span><span style=\"color: #008000; text-decoration-color: #008000\">             </span><span style=\"color: #000080; text-decoration-color: #000080\">│</span><span style=\"color: #ffffff; text-decoration-color: #ffffff\">                                                     </span><span style=\"color: #000080; text-decoration-color: #000080\">│</span><span style=\"color: #ffff00; text-decoration-color: #ffff00; font-weight: bold\">                 </span><span style=\"color: #000080; text-decoration-color: #000080\">│</span><span style=\"color: #c0c0c0; text-decoration-color: #c0c0c0\">                  </span><span style=\"color: #000080; text-decoration-color: #000080\">│</span>\n",
       "<span style=\"color: #000080; text-decoration-color: #000080\">│</span><span style=\"color: #800080; text-decoration-color: #800080\">   1    </span><span style=\"color: #000080; text-decoration-color: #000080\">│</span><span style=\"color: #008000; text-decoration-color: #008000\">    0.625    </span><span style=\"color: #000080; text-decoration-color: #000080\">│</span><span style=\"color: #ffffff; text-decoration-color: #ffffff\">  </span><span style=\"color: #ffffff; text-decoration-color: #ffffff; font-style: italic\">\"Animals are such agreeable friends—they ask no  </span><span style=\"color: #ffffff; text-decoration-color: #ffffff\">  </span><span style=\"color: #000080; text-decoration-color: #000080\">│</span><span style=\"color: #ffff00; text-decoration-color: #ffff00; font-weight: bold\">  George Eliot   </span><span style=\"color: #000080; text-decoration-color: #000080\">│</span><span style=\"color: #c0c0c0; text-decoration-color: #c0c0c0\">  Famous          </span><span style=\"color: #000080; text-decoration-color: #000080\">│</span>\n",
       "<span style=\"color: #000080; text-decoration-color: #000080\">│</span><span style=\"color: #800080; text-decoration-color: #800080\">        </span><span style=\"color: #000080; text-decoration-color: #000080\">│</span><span style=\"color: #008000; text-decoration-color: #008000\">             </span><span style=\"color: #000080; text-decoration-color: #000080\">│</span><span style=\"color: #ffffff; text-decoration-color: #ffffff\">  </span><span style=\"color: #ffffff; text-decoration-color: #ffffff; font-style: italic\">questions; they pass no criticisms.\"             </span><span style=\"color: #ffffff; text-decoration-color: #ffffff\">  </span><span style=\"color: #000080; text-decoration-color: #000080\">│</span><span style=\"color: #ffff00; text-decoration-color: #ffff00; font-weight: bold\">                 </span><span style=\"color: #000080; text-decoration-color: #000080\">│</span><span style=\"color: #c0c0c0; text-decoration-color: #c0c0c0\">  Literary        </span><span style=\"color: #000080; text-decoration-color: #000080\">│</span>\n",
       "<span style=\"color: #000080; text-decoration-color: #000080\">│</span><span style=\"color: #800080; text-decoration-color: #800080\">        </span><span style=\"color: #000080; text-decoration-color: #000080\">│</span><span style=\"color: #008000; text-decoration-color: #008000\">             </span><span style=\"color: #000080; text-decoration-color: #000080\">│</span><span style=\"color: #ffffff; text-decoration-color: #ffffff\">                                                     </span><span style=\"color: #000080; text-decoration-color: #000080\">│</span><span style=\"color: #ffff00; text-decoration-color: #ffff00; font-weight: bold\">                 </span><span style=\"color: #000080; text-decoration-color: #000080\">│</span><span style=\"color: #c0c0c0; text-decoration-color: #c0c0c0\">  Passages        </span><span style=\"color: #000080; text-decoration-color: #000080\">│</span>\n",
       "<span style=\"color: #000080; text-decoration-color: #000080\">│</span><span style=\"color: #800080; text-decoration-color: #800080\">        </span><span style=\"color: #000080; text-decoration-color: #000080\">│</span><span style=\"color: #008000; text-decoration-color: #008000\">             </span><span style=\"color: #000080; text-decoration-color: #000080\">│</span><span style=\"color: #ffffff; text-decoration-color: #ffffff\">                                                     </span><span style=\"color: #000080; text-decoration-color: #000080\">│</span><span style=\"color: #ffff00; text-decoration-color: #ffff00; font-weight: bold\">                 </span><span style=\"color: #000080; text-decoration-color: #000080\">│</span><span style=\"color: #c0c0c0; text-decoration-color: #c0c0c0\">                  </span><span style=\"color: #000080; text-decoration-color: #000080\">│</span>\n",
       "<span style=\"color: #000080; text-decoration-color: #000080\">│</span><span style=\"color: #800080; text-decoration-color: #800080\">        </span><span style=\"color: #000080; text-decoration-color: #000080\">│</span><span style=\"color: #008000; text-decoration-color: #008000\">             </span><span style=\"color: #000080; text-decoration-color: #000080\">│</span><span style=\"color: #ffffff; text-decoration-color: #ffffff\">                                                     </span><span style=\"color: #000080; text-decoration-color: #000080\">│</span><span style=\"color: #ffff00; text-decoration-color: #ffff00; font-weight: bold\">                 </span><span style=\"color: #000080; text-decoration-color: #000080\">│</span><span style=\"color: #c0c0c0; text-decoration-color: #c0c0c0\">                  </span><span style=\"color: #000080; text-decoration-color: #000080\">│</span>\n",
       "<span style=\"color: #000080; text-decoration-color: #000080\">│</span><span style=\"color: #800080; text-decoration-color: #800080\">   2    </span><span style=\"color: #000080; text-decoration-color: #000080\">│</span><span style=\"color: #008000; text-decoration-color: #008000\">    0.586    </span><span style=\"color: #000080; text-decoration-color: #000080\">│</span><span style=\"color: #ffffff; text-decoration-color: #ffffff\">  </span><span style=\"color: #ffffff; text-decoration-color: #ffffff; font-style: italic\">\"The best thing about animals is that they don't </span><span style=\"color: #ffffff; text-decoration-color: #ffffff\">  </span><span style=\"color: #000080; text-decoration-color: #000080\">│</span><span style=\"color: #ffff00; text-decoration-color: #ffff00; font-weight: bold\">  Thornton       </span><span style=\"color: #000080; text-decoration-color: #000080\">│</span><span style=\"color: #c0c0c0; text-decoration-color: #c0c0c0\">  Famous          </span><span style=\"color: #000080; text-decoration-color: #000080\">│</span>\n",
       "<span style=\"color: #000080; text-decoration-color: #000080\">│</span><span style=\"color: #800080; text-decoration-color: #800080\">        </span><span style=\"color: #000080; text-decoration-color: #000080\">│</span><span style=\"color: #008000; text-decoration-color: #008000\">             </span><span style=\"color: #000080; text-decoration-color: #000080\">│</span><span style=\"color: #ffffff; text-decoration-color: #ffffff\">  </span><span style=\"color: #ffffff; text-decoration-color: #ffffff; font-style: italic\">talk much.\"                                      </span><span style=\"color: #ffffff; text-decoration-color: #ffffff\">  </span><span style=\"color: #000080; text-decoration-color: #000080\">│</span><span style=\"color: #ffff00; text-decoration-color: #ffff00; font-weight: bold\">  Wilder         </span><span style=\"color: #000080; text-decoration-color: #000080\">│</span><span style=\"color: #c0c0c0; text-decoration-color: #c0c0c0\">  Literary        </span><span style=\"color: #000080; text-decoration-color: #000080\">│</span>\n",
       "<span style=\"color: #000080; text-decoration-color: #000080\">│</span><span style=\"color: #800080; text-decoration-color: #800080\">        </span><span style=\"color: #000080; text-decoration-color: #000080\">│</span><span style=\"color: #008000; text-decoration-color: #008000\">             </span><span style=\"color: #000080; text-decoration-color: #000080\">│</span><span style=\"color: #ffffff; text-decoration-color: #ffffff\">                                                     </span><span style=\"color: #000080; text-decoration-color: #000080\">│</span><span style=\"color: #ffff00; text-decoration-color: #ffff00; font-weight: bold\">                 </span><span style=\"color: #000080; text-decoration-color: #000080\">│</span><span style=\"color: #c0c0c0; text-decoration-color: #c0c0c0\">  Passages        </span><span style=\"color: #000080; text-decoration-color: #000080\">│</span>\n",
       "<span style=\"color: #000080; text-decoration-color: #000080\">│</span><span style=\"color: #800080; text-decoration-color: #800080\">        </span><span style=\"color: #000080; text-decoration-color: #000080\">│</span><span style=\"color: #008000; text-decoration-color: #008000\">             </span><span style=\"color: #000080; text-decoration-color: #000080\">│</span><span style=\"color: #ffffff; text-decoration-color: #ffffff\">                                                     </span><span style=\"color: #000080; text-decoration-color: #000080\">│</span><span style=\"color: #ffff00; text-decoration-color: #ffff00; font-weight: bold\">                 </span><span style=\"color: #000080; text-decoration-color: #000080\">│</span><span style=\"color: #c0c0c0; text-decoration-color: #c0c0c0\">                  </span><span style=\"color: #000080; text-decoration-color: #000080\">│</span>\n",
       "<span style=\"color: #000080; text-decoration-color: #000080\">│</span><span style=\"color: #800080; text-decoration-color: #800080\">        </span><span style=\"color: #000080; text-decoration-color: #000080\">│</span><span style=\"color: #008000; text-decoration-color: #008000\">             </span><span style=\"color: #000080; text-decoration-color: #000080\">│</span><span style=\"color: #ffffff; text-decoration-color: #ffffff\">                                                     </span><span style=\"color: #000080; text-decoration-color: #000080\">│</span><span style=\"color: #ffff00; text-decoration-color: #ffff00; font-weight: bold\">                 </span><span style=\"color: #000080; text-decoration-color: #000080\">│</span><span style=\"color: #c0c0c0; text-decoration-color: #c0c0c0\">                  </span><span style=\"color: #000080; text-decoration-color: #000080\">│</span>\n",
       "<span style=\"color: #000080; text-decoration-color: #000080\">│</span><span style=\"color: #800080; text-decoration-color: #800080\">   3    </span><span style=\"color: #000080; text-decoration-color: #000080\">│</span><span style=\"color: #008000; text-decoration-color: #008000\">    0.548    </span><span style=\"color: #000080; text-decoration-color: #000080\">│</span><span style=\"color: #ffffff; text-decoration-color: #ffffff\">  </span><span style=\"color: #ffffff; text-decoration-color: #ffffff; font-style: italic\">\"Some people talk to animals. Not many listen    </span><span style=\"color: #ffffff; text-decoration-color: #ffffff\">  </span><span style=\"color: #000080; text-decoration-color: #000080\">│</span><span style=\"color: #ffff00; text-decoration-color: #ffff00; font-weight: bold\">  A.A. Milne     </span><span style=\"color: #000080; text-decoration-color: #000080\">│</span><span style=\"color: #c0c0c0; text-decoration-color: #c0c0c0\">  Proverbs and    </span><span style=\"color: #000080; text-decoration-color: #000080\">│</span>\n",
       "<span style=\"color: #000080; text-decoration-color: #000080\">│</span><span style=\"color: #800080; text-decoration-color: #800080\">        </span><span style=\"color: #000080; text-decoration-color: #000080\">│</span><span style=\"color: #008000; text-decoration-color: #008000\">             </span><span style=\"color: #000080; text-decoration-color: #000080\">│</span><span style=\"color: #ffffff; text-decoration-color: #ffffff\">  </span><span style=\"color: #ffffff; text-decoration-color: #ffffff; font-style: italic\">though. That's the problem.\"                     </span><span style=\"color: #ffffff; text-decoration-color: #ffffff\">  </span><span style=\"color: #000080; text-decoration-color: #000080\">│</span><span style=\"color: #ffff00; text-decoration-color: #ffff00; font-weight: bold\">                 </span><span style=\"color: #000080; text-decoration-color: #000080\">│</span><span style=\"color: #c0c0c0; text-decoration-color: #c0c0c0\">  Sayings         </span><span style=\"color: #000080; text-decoration-color: #000080\">│</span>\n",
       "<span style=\"color: #000080; text-decoration-color: #000080\">│</span><span style=\"color: #800080; text-decoration-color: #800080\">        </span><span style=\"color: #000080; text-decoration-color: #000080\">│</span><span style=\"color: #008000; text-decoration-color: #008000\">             </span><span style=\"color: #000080; text-decoration-color: #000080\">│</span><span style=\"color: #ffffff; text-decoration-color: #ffffff\">                                                     </span><span style=\"color: #000080; text-decoration-color: #000080\">│</span><span style=\"color: #ffff00; text-decoration-color: #ffff00; font-weight: bold\">                 </span><span style=\"color: #000080; text-decoration-color: #000080\">│</span><span style=\"color: #c0c0c0; text-decoration-color: #c0c0c0\">                  </span><span style=\"color: #000080; text-decoration-color: #000080\">│</span>\n",
       "<span style=\"color: #000080; text-decoration-color: #000080\">│</span><span style=\"color: #800080; text-decoration-color: #800080\">        </span><span style=\"color: #000080; text-decoration-color: #000080\">│</span><span style=\"color: #008000; text-decoration-color: #008000\">             </span><span style=\"color: #000080; text-decoration-color: #000080\">│</span><span style=\"color: #ffffff; text-decoration-color: #ffffff\">                                                     </span><span style=\"color: #000080; text-decoration-color: #000080\">│</span><span style=\"color: #ffff00; text-decoration-color: #ffff00; font-weight: bold\">                 </span><span style=\"color: #000080; text-decoration-color: #000080\">│</span><span style=\"color: #c0c0c0; text-decoration-color: #c0c0c0\">                  </span><span style=\"color: #000080; text-decoration-color: #000080\">│</span>\n",
       "<span style=\"color: #000080; text-decoration-color: #000080\">│</span><span style=\"color: #800080; text-decoration-color: #800080\">   4    </span><span style=\"color: #000080; text-decoration-color: #000080\">│</span><span style=\"color: #008000; text-decoration-color: #008000\">    0.535    </span><span style=\"color: #000080; text-decoration-color: #000080\">│</span><span style=\"color: #ffffff; text-decoration-color: #ffffff\">  </span><span style=\"color: #ffffff; text-decoration-color: #ffffff; font-style: italic\">\"Animals are reliable, many full of love, true in</span><span style=\"color: #ffffff; text-decoration-color: #ffffff\">  </span><span style=\"color: #000080; text-decoration-color: #000080\">│</span><span style=\"color: #ffff00; text-decoration-color: #ffff00; font-weight: bold\">  Alfred A.      </span><span style=\"color: #000080; text-decoration-color: #000080\">│</span><span style=\"color: #c0c0c0; text-decoration-color: #c0c0c0\">  Reflections     </span><span style=\"color: #000080; text-decoration-color: #000080\">│</span>\n",
       "<span style=\"color: #000080; text-decoration-color: #000080\">│</span><span style=\"color: #800080; text-decoration-color: #800080\">        </span><span style=\"color: #000080; text-decoration-color: #000080\">│</span><span style=\"color: #008000; text-decoration-color: #008000\">             </span><span style=\"color: #000080; text-decoration-color: #000080\">│</span><span style=\"color: #ffffff; text-decoration-color: #ffffff\">  </span><span style=\"color: #ffffff; text-decoration-color: #ffffff; font-style: italic\">their affections, predictable in their actions,  </span><span style=\"color: #ffffff; text-decoration-color: #ffffff\">  </span><span style=\"color: #000080; text-decoration-color: #000080\">│</span><span style=\"color: #ffff00; text-decoration-color: #ffff00; font-weight: bold\">  Montapert      </span><span style=\"color: #000080; text-decoration-color: #000080\">│</span><span style=\"color: #c0c0c0; text-decoration-color: #c0c0c0\">  and Lessons     </span><span style=\"color: #000080; text-decoration-color: #000080\">│</span>\n",
       "<span style=\"color: #000080; text-decoration-color: #000080\">│</span><span style=\"color: #800080; text-decoration-color: #800080\">        </span><span style=\"color: #000080; text-decoration-color: #000080\">│</span><span style=\"color: #008000; text-decoration-color: #008000\">             </span><span style=\"color: #000080; text-decoration-color: #000080\">│</span><span style=\"color: #ffffff; text-decoration-color: #ffffff\">  </span><span style=\"color: #ffffff; text-decoration-color: #ffffff; font-style: italic\">grateful and loyal. ...\"                         </span><span style=\"color: #ffffff; text-decoration-color: #ffffff\">  </span><span style=\"color: #000080; text-decoration-color: #000080\">│</span><span style=\"color: #ffff00; text-decoration-color: #ffff00; font-weight: bold\">                 </span><span style=\"color: #000080; text-decoration-color: #000080\">│</span><span style=\"color: #c0c0c0; text-decoration-color: #c0c0c0\">                  </span><span style=\"color: #000080; text-decoration-color: #000080\">│</span>\n",
       "<span style=\"color: #000080; text-decoration-color: #000080\">│</span><span style=\"color: #800080; text-decoration-color: #800080\">        </span><span style=\"color: #000080; text-decoration-color: #000080\">│</span><span style=\"color: #008000; text-decoration-color: #008000\">             </span><span style=\"color: #000080; text-decoration-color: #000080\">│</span><span style=\"color: #ffffff; text-decoration-color: #ffffff\">                                                     </span><span style=\"color: #000080; text-decoration-color: #000080\">│</span><span style=\"color: #ffff00; text-decoration-color: #ffff00; font-weight: bold\">                 </span><span style=\"color: #000080; text-decoration-color: #000080\">│</span><span style=\"color: #c0c0c0; text-decoration-color: #c0c0c0\">                  </span><span style=\"color: #000080; text-decoration-color: #000080\">│</span>\n",
       "<span style=\"color: #000080; text-decoration-color: #000080\">└────────┴─────────────┴─────────────────────────────────────────────────────┴─────────────────┴──────────────────┘</span>\n",
       "</pre>\n"
      ],
      "text/plain": [
       "\u001b[3m                                         🔍 Basic Semantic Search Results                                          \u001b[0m\n",
       "\u001b[34m┏━━━━━━━━┳━━━━━━━━━━━━━┳━━━━━━━━━━━━━━━━━━━━━━━━━━━━━━━━━━━━━━━━━━━━━━━━━━━━━┳━━━━━━━━━━━━━━━━━┳━━━━━━━━━━━━━━━━━━┓\u001b[0m\n",
       "\u001b[34m┃\u001b[0m\u001b[1;35m        \u001b[0m\u001b[34m┃\u001b[0m\u001b[1;35m             \u001b[0m\u001b[34m┃\u001b[0m\u001b[1;35m                                                     \u001b[0m\u001b[34m┃\u001b[0m\u001b[1;35m                 \u001b[0m\u001b[34m┃\u001b[0m\u001b[1;35m                  \u001b[0m\u001b[34m┃\u001b[0m\n",
       "\u001b[34m┃\u001b[0m\u001b[1;35m  \u001b[0m\u001b[1;35m #  \u001b[0m\u001b[1;35m  \u001b[0m\u001b[34m┃\u001b[0m\u001b[1;35m  \u001b[0m\u001b[1;35m  Score  \u001b[0m\u001b[1;35m  \u001b[0m\u001b[34m┃\u001b[0m\u001b[1;35m  \u001b[0m\u001b[1;35mQuote                                            \u001b[0m\u001b[1;35m  \u001b[0m\u001b[34m┃\u001b[0m\u001b[1;35m  \u001b[0m\u001b[1;35mAuthor       \u001b[0m\u001b[1;35m  \u001b[0m\u001b[34m┃\u001b[0m\u001b[1;35m  \u001b[0m\u001b[1;35mCategory      \u001b[0m\u001b[1;35m  \u001b[0m\u001b[34m┃\u001b[0m\n",
       "\u001b[34m┃\u001b[0m\u001b[1;35m        \u001b[0m\u001b[34m┃\u001b[0m\u001b[1;35m             \u001b[0m\u001b[34m┃\u001b[0m\u001b[1;35m                                                     \u001b[0m\u001b[34m┃\u001b[0m\u001b[1;35m                 \u001b[0m\u001b[34m┃\u001b[0m\u001b[1;35m                  \u001b[0m\u001b[34m┃\u001b[0m\n",
       "\u001b[34m┡━━━━━━━━╇━━━━━━━━━━━━━╇━━━━━━━━━━━━━━━━━━━━━━━━━━━━━━━━━━━━━━━━━━━━━━━━━━━━━╇━━━━━━━━━━━━━━━━━╇━━━━━━━━━━━━━━━━━━┩\u001b[0m\n",
       "\u001b[34m│\u001b[0m\u001b[35m        \u001b[0m\u001b[34m│\u001b[0m\u001b[32m             \u001b[0m\u001b[34m│\u001b[0m\u001b[97m                                                     \u001b[0m\u001b[34m│\u001b[0m\u001b[1;93m                 \u001b[0m\u001b[34m│\u001b[0m\u001b[37m                  \u001b[0m\u001b[34m│\u001b[0m\n",
       "\u001b[34m│\u001b[0m\u001b[35m  \u001b[0m\u001b[35m 1  \u001b[0m\u001b[35m  \u001b[0m\u001b[34m│\u001b[0m\u001b[32m  \u001b[0m\u001b[32m  0.625  \u001b[0m\u001b[32m  \u001b[0m\u001b[34m│\u001b[0m\u001b[97m  \u001b[0m\u001b[3;97m\"Animals are such agreeable friends—they ask no  \u001b[0m\u001b[97m  \u001b[0m\u001b[34m│\u001b[0m\u001b[1;93m  \u001b[0m\u001b[1;93mGeorge Eliot \u001b[0m\u001b[1;93m  \u001b[0m\u001b[34m│\u001b[0m\u001b[37m  \u001b[0m\u001b[37mFamous        \u001b[0m\u001b[37m  \u001b[0m\u001b[34m│\u001b[0m\n",
       "\u001b[34m│\u001b[0m\u001b[35m        \u001b[0m\u001b[34m│\u001b[0m\u001b[32m             \u001b[0m\u001b[34m│\u001b[0m\u001b[97m  \u001b[0m\u001b[3;97mquestions; they pass no criticisms.\"             \u001b[0m\u001b[97m  \u001b[0m\u001b[34m│\u001b[0m\u001b[1;93m                 \u001b[0m\u001b[34m│\u001b[0m\u001b[37m  \u001b[0m\u001b[37mLiterary      \u001b[0m\u001b[37m  \u001b[0m\u001b[34m│\u001b[0m\n",
       "\u001b[34m│\u001b[0m\u001b[35m        \u001b[0m\u001b[34m│\u001b[0m\u001b[32m             \u001b[0m\u001b[34m│\u001b[0m\u001b[97m                                                     \u001b[0m\u001b[34m│\u001b[0m\u001b[1;93m                 \u001b[0m\u001b[34m│\u001b[0m\u001b[37m  \u001b[0m\u001b[37mPassages      \u001b[0m\u001b[37m  \u001b[0m\u001b[34m│\u001b[0m\n",
       "\u001b[34m│\u001b[0m\u001b[35m        \u001b[0m\u001b[34m│\u001b[0m\u001b[32m             \u001b[0m\u001b[34m│\u001b[0m\u001b[97m                                                     \u001b[0m\u001b[34m│\u001b[0m\u001b[1;93m                 \u001b[0m\u001b[34m│\u001b[0m\u001b[37m                  \u001b[0m\u001b[34m│\u001b[0m\n",
       "\u001b[34m│\u001b[0m\u001b[35m        \u001b[0m\u001b[34m│\u001b[0m\u001b[32m             \u001b[0m\u001b[34m│\u001b[0m\u001b[97m                                                     \u001b[0m\u001b[34m│\u001b[0m\u001b[1;93m                 \u001b[0m\u001b[34m│\u001b[0m\u001b[37m                  \u001b[0m\u001b[34m│\u001b[0m\n",
       "\u001b[34m│\u001b[0m\u001b[35m  \u001b[0m\u001b[35m 2  \u001b[0m\u001b[35m  \u001b[0m\u001b[34m│\u001b[0m\u001b[32m  \u001b[0m\u001b[32m  0.586  \u001b[0m\u001b[32m  \u001b[0m\u001b[34m│\u001b[0m\u001b[97m  \u001b[0m\u001b[3;97m\"The best thing about animals is that they don't \u001b[0m\u001b[97m  \u001b[0m\u001b[34m│\u001b[0m\u001b[1;93m  \u001b[0m\u001b[1;93mThornton     \u001b[0m\u001b[1;93m  \u001b[0m\u001b[34m│\u001b[0m\u001b[37m  \u001b[0m\u001b[37mFamous        \u001b[0m\u001b[37m  \u001b[0m\u001b[34m│\u001b[0m\n",
       "\u001b[34m│\u001b[0m\u001b[35m        \u001b[0m\u001b[34m│\u001b[0m\u001b[32m             \u001b[0m\u001b[34m│\u001b[0m\u001b[97m  \u001b[0m\u001b[3;97mtalk much.\"                                      \u001b[0m\u001b[97m  \u001b[0m\u001b[34m│\u001b[0m\u001b[1;93m  \u001b[0m\u001b[1;93mWilder       \u001b[0m\u001b[1;93m  \u001b[0m\u001b[34m│\u001b[0m\u001b[37m  \u001b[0m\u001b[37mLiterary      \u001b[0m\u001b[37m  \u001b[0m\u001b[34m│\u001b[0m\n",
       "\u001b[34m│\u001b[0m\u001b[35m        \u001b[0m\u001b[34m│\u001b[0m\u001b[32m             \u001b[0m\u001b[34m│\u001b[0m\u001b[97m                                                     \u001b[0m\u001b[34m│\u001b[0m\u001b[1;93m                 \u001b[0m\u001b[34m│\u001b[0m\u001b[37m  \u001b[0m\u001b[37mPassages      \u001b[0m\u001b[37m  \u001b[0m\u001b[34m│\u001b[0m\n",
       "\u001b[34m│\u001b[0m\u001b[35m        \u001b[0m\u001b[34m│\u001b[0m\u001b[32m             \u001b[0m\u001b[34m│\u001b[0m\u001b[97m                                                     \u001b[0m\u001b[34m│\u001b[0m\u001b[1;93m                 \u001b[0m\u001b[34m│\u001b[0m\u001b[37m                  \u001b[0m\u001b[34m│\u001b[0m\n",
       "\u001b[34m│\u001b[0m\u001b[35m        \u001b[0m\u001b[34m│\u001b[0m\u001b[32m             \u001b[0m\u001b[34m│\u001b[0m\u001b[97m                                                     \u001b[0m\u001b[34m│\u001b[0m\u001b[1;93m                 \u001b[0m\u001b[34m│\u001b[0m\u001b[37m                  \u001b[0m\u001b[34m│\u001b[0m\n",
       "\u001b[34m│\u001b[0m\u001b[35m  \u001b[0m\u001b[35m 3  \u001b[0m\u001b[35m  \u001b[0m\u001b[34m│\u001b[0m\u001b[32m  \u001b[0m\u001b[32m  0.548  \u001b[0m\u001b[32m  \u001b[0m\u001b[34m│\u001b[0m\u001b[97m  \u001b[0m\u001b[3;97m\"Some people talk to animals. Not many listen    \u001b[0m\u001b[97m  \u001b[0m\u001b[34m│\u001b[0m\u001b[1;93m  \u001b[0m\u001b[1;93mA.A. Milne   \u001b[0m\u001b[1;93m  \u001b[0m\u001b[34m│\u001b[0m\u001b[37m  \u001b[0m\u001b[37mProverbs and  \u001b[0m\u001b[37m  \u001b[0m\u001b[34m│\u001b[0m\n",
       "\u001b[34m│\u001b[0m\u001b[35m        \u001b[0m\u001b[34m│\u001b[0m\u001b[32m             \u001b[0m\u001b[34m│\u001b[0m\u001b[97m  \u001b[0m\u001b[3;97mthough. That's the problem.\"                     \u001b[0m\u001b[97m  \u001b[0m\u001b[34m│\u001b[0m\u001b[1;93m                 \u001b[0m\u001b[34m│\u001b[0m\u001b[37m  \u001b[0m\u001b[37mSayings       \u001b[0m\u001b[37m  \u001b[0m\u001b[34m│\u001b[0m\n",
       "\u001b[34m│\u001b[0m\u001b[35m        \u001b[0m\u001b[34m│\u001b[0m\u001b[32m             \u001b[0m\u001b[34m│\u001b[0m\u001b[97m                                                     \u001b[0m\u001b[34m│\u001b[0m\u001b[1;93m                 \u001b[0m\u001b[34m│\u001b[0m\u001b[37m                  \u001b[0m\u001b[34m│\u001b[0m\n",
       "\u001b[34m│\u001b[0m\u001b[35m        \u001b[0m\u001b[34m│\u001b[0m\u001b[32m             \u001b[0m\u001b[34m│\u001b[0m\u001b[97m                                                     \u001b[0m\u001b[34m│\u001b[0m\u001b[1;93m                 \u001b[0m\u001b[34m│\u001b[0m\u001b[37m                  \u001b[0m\u001b[34m│\u001b[0m\n",
       "\u001b[34m│\u001b[0m\u001b[35m  \u001b[0m\u001b[35m 4  \u001b[0m\u001b[35m  \u001b[0m\u001b[34m│\u001b[0m\u001b[32m  \u001b[0m\u001b[32m  0.535  \u001b[0m\u001b[32m  \u001b[0m\u001b[34m│\u001b[0m\u001b[97m  \u001b[0m\u001b[3;97m\"Animals are reliable, many full of love, true in\u001b[0m\u001b[97m  \u001b[0m\u001b[34m│\u001b[0m\u001b[1;93m  \u001b[0m\u001b[1;93mAlfred A.    \u001b[0m\u001b[1;93m  \u001b[0m\u001b[34m│\u001b[0m\u001b[37m  \u001b[0m\u001b[37mReflections   \u001b[0m\u001b[37m  \u001b[0m\u001b[34m│\u001b[0m\n",
       "\u001b[34m│\u001b[0m\u001b[35m        \u001b[0m\u001b[34m│\u001b[0m\u001b[32m             \u001b[0m\u001b[34m│\u001b[0m\u001b[97m  \u001b[0m\u001b[3;97mtheir affections, predictable in their actions,  \u001b[0m\u001b[97m  \u001b[0m\u001b[34m│\u001b[0m\u001b[1;93m  \u001b[0m\u001b[1;93mMontapert    \u001b[0m\u001b[1;93m  \u001b[0m\u001b[34m│\u001b[0m\u001b[37m  \u001b[0m\u001b[37mand Lessons   \u001b[0m\u001b[37m  \u001b[0m\u001b[34m│\u001b[0m\n",
       "\u001b[34m│\u001b[0m\u001b[35m        \u001b[0m\u001b[34m│\u001b[0m\u001b[32m             \u001b[0m\u001b[34m│\u001b[0m\u001b[97m  \u001b[0m\u001b[3;97mgrateful and loyal. ...\"                         \u001b[0m\u001b[97m  \u001b[0m\u001b[34m│\u001b[0m\u001b[1;93m                 \u001b[0m\u001b[34m│\u001b[0m\u001b[37m                  \u001b[0m\u001b[34m│\u001b[0m\n",
       "\u001b[34m│\u001b[0m\u001b[35m        \u001b[0m\u001b[34m│\u001b[0m\u001b[32m             \u001b[0m\u001b[34m│\u001b[0m\u001b[97m                                                     \u001b[0m\u001b[34m│\u001b[0m\u001b[1;93m                 \u001b[0m\u001b[34m│\u001b[0m\u001b[37m                  \u001b[0m\u001b[34m│\u001b[0m\n",
       "\u001b[34m└────────┴─────────────┴─────────────────────────────────────────────────────┴─────────────────┴──────────────────┘\u001b[0m\n"
      ]
     },
     "metadata": {},
     "output_type": "display_data"
    },
    {
     "data": {
      "text/html": [
       "<pre style=\"white-space:pre;overflow-x:auto;line-height:normal;font-family:Menlo,'DejaVu Sans Mono',consolas,'Courier New',monospace\"><span style=\"color: #008000; text-decoration-color: #008000; font-weight: bold\">📊 Found </span><span style=\"color: #008080; text-decoration-color: #008080; font-weight: bold\">4</span><span style=\"color: #008000; text-decoration-color: #008000; font-weight: bold\"> results</span>\n",
       "</pre>\n"
      ],
      "text/plain": [
       "\u001b[1;32m📊 Found \u001b[0m\u001b[1;36m4\u001b[0m\u001b[1;32m results\u001b[0m\n"
      ]
     },
     "metadata": {},
     "output_type": "display_data"
    }
   ],
   "source": [
    "\n",
    "\n",
    "results = animals.search(\"a friendship with animals\", limit=4)\n",
    "animals.display_search_results(results, \"Basic Semantic Search Results\", max_text_length=120)"
   ]
  },
  {
   "cell_type": "markdown",
   "metadata": {},
   "source": [
    "## RAG to Riches: Lesson 2 - The Power of RAG\n",
    "\n",
    "Let us see now this works.\n"
   ]
  },
  {
   "cell_type": "code",
   "execution_count": 5,
   "metadata": {},
   "outputs": [
    {
     "name": "stderr",
     "output_type": "stream",
     "text": [
      "\u001b[32m2025-06-21 09:26:30\u001b[0m | \u001b[1mINFO    \u001b[0m | \u001b[36mrag_to_riches.vectordb.embedded_vectordb\u001b[0m:\u001b[36msearch_points\u001b[0m:\u001b[36m408\u001b[0m - \u001b[1mFound 3 points in collection 'animals'\u001b[0m\n",
      "\u001b[32m2025-06-21 09:26:30\u001b[0m | \u001b[1mINFO    \u001b[0m | \u001b[36mrag_to_riches.search.semantic_search\u001b[0m:\u001b[36msearch_with_text\u001b[0m:\u001b[36m347\u001b[0m - \u001b[1mText search for 'What do animals teach us about love?...' returned 3 results\u001b[0m\n",
      "\u001b[32m2025-06-21 09:26:30\u001b[0m | \u001b[1mINFO    \u001b[0m | \u001b[36mrag_to_riches.corpus.animals\u001b[0m:\u001b[36msearch\u001b[0m:\u001b[36m416\u001b[0m - \u001b[1mAnimal quotes search for 'What do animals teach us about love?...' returned 3 results\u001b[0m\n",
      "\u001b[32m2025-06-21 09:26:30\u001b[0m | \u001b[1mINFO    \u001b[0m | \u001b[36mrag_to_riches.vectordb.embedded_vectordb\u001b[0m:\u001b[36msearch_points\u001b[0m:\u001b[36m408\u001b[0m - \u001b[1mFound 3 points in collection 'animals'\u001b[0m\n",
      "\u001b[32m2025-06-21 09:26:30\u001b[0m | \u001b[1mINFO    \u001b[0m | \u001b[36mrag_to_riches.search.semantic_search\u001b[0m:\u001b[36msearch_with_text\u001b[0m:\u001b[36m347\u001b[0m - \u001b[1mText search for 'What do animals teach us about love?...' returned 3 results\u001b[0m\n",
      "\u001b[32m2025-06-21 09:26:30\u001b[0m | \u001b[1mINFO    \u001b[0m | \u001b[36mrag_to_riches.corpus.animals\u001b[0m:\u001b[36msearch\u001b[0m:\u001b[36m416\u001b[0m - \u001b[1mAnimal quotes search for 'What do animals teach us about love?...' returned 3 results\u001b[0m\n",
      "\u001b[32m2025-06-21 09:26:39\u001b[0m | \u001b[1mINFO    \u001b[0m | \u001b[36mrag_to_riches.corpus.animals\u001b[0m:\u001b[36mask_llm\u001b[0m:\u001b[36m884\u001b[0m - \u001b[1mLLM response generated for query: 'What do animals teach us about love?...'\u001b[0m\n",
      "\u001b[32m2025-06-21 09:26:39\u001b[0m | \u001b[1mINFO    \u001b[0m | \u001b[36mrag_to_riches.corpus.animals\u001b[0m:\u001b[36mrag\u001b[0m:\u001b[36m1118\u001b[0m - \u001b[1mComplete RAG pipeline executed for query: 'What do animals teach us about love?...' with 3 results and structured response\u001b[0m\n"
     ]
    }
   ],
   "source": [
    "result = animals.rag(\n",
    "    user_query=\"What do animals teach us about love?\",\n",
    "    limit=3,\n",
    "    response_type=\"structured\"  # or \"simple\"\n",
    ")\n",
    "llm_response = result[\"llm_response\"]\n",
    "search_results = result[\"search_results\"]"
   ]
  },
  {
   "cell_type": "code",
   "execution_count": 6,
   "metadata": {},
   "outputs": [
    {
     "name": "stdout",
     "output_type": "stream",
     "text": [
      "answer=\"Animals teach us profound lessons about love, often exhibiting traits that humans strive to embody. Firstly, according to Johnny Depp, dogs and infants are among the few beings on Earth capable of conveying pure love. This suggests that animals, particularly dogs, possess an innate ability to express unconditional love—a trait humans deeply admire and seek to replicate in their relationships.\\n\\nAlfred A. Montapert expands on this idea by highlighting several qualities of animals, such as being reliable, full of love, true in their affections, predictable, grateful, and loyal. These qualities set challenging yet aspirational standards for love and behavior that people often wish to emulate. Animals' ability to love without expectations serves as a reminder of the simplicity and depth of authentic connection.\\n\\nFurthermore, Pythagoras points out that animals share with us the privilege of having a soul. This philosophical insight underscores the spiritual and emotional capacities of animals, suggesting that their expressions of love resonate with a deep, soulful authenticity that can inspire humans to connect more deeply with their own spiritual and emotional natures.\" key_insights=['Animals display pure, unconditional love, especially evident in dogs.', \"Animals' loyalty, gratitude, and predictable nature make their love reliable and exemplary.\", 'The soulful presence of animals suggests a deep spiritual connection with humans.', \"Animals' simple expressions of love teach humans about authenticity in relationships.\"] recommended_quotes=['\"The only creatures that are evolved enough to convey pure love are dogs and infants.\" - Johnny Depp', '\"Animals are reliable, many full of love, true in their affections, predictable in their actions, grateful and loyal. Difficult standards for people to live up to.\" - Alfred A. Montapert', '\"Animals share with us the privilege of having a soul.\" - Pythagoras'] follow_up_questions=['How do animals express other emotions besides love?', \"What lessons can humans learn from animals' loyalty and reliability?\", 'How do different cultures view the spiritual connection between humans and animals?']\n"
     ]
    }
   ],
   "source": [
    "print (llm_response)"
   ]
  },
  {
   "cell_type": "code",
   "execution_count": 10,
   "metadata": {},
   "outputs": [
    {
     "data": {
      "text/html": [
       "<pre style=\"white-space:pre;overflow-x:auto;line-height:normal;font-family:Menlo,'DejaVu Sans Mono',consolas,'Courier New',monospace\"><span style=\"color: #808000; text-decoration-color: #808000\">answer</span>=<span style=\"color: #800080; text-decoration-color: #800080\">\"Animals</span> teach us profound lessons about love, often exhibiting traits that humans strive to\n",
       "embody. Firstly, according to Johnny Depp, dogs and infants are among the few beings on Earth\n",
       "capable of conveying pure love. This suggests that animals, particularly dogs, possess an innate\n",
       "ability to express unconditional love—a trait humans deeply admire and seek to replicate in their\n",
       "relationships.\\n\\nAlfred A. Montapert expands on this idea by highlighting several qualities of\n",
       "animals, such as being reliable, full of love, true in their affections, predictable, grateful, and\n",
       "loyal. These qualities set challenging yet aspirational standards for love and behavior that people\n",
       "often wish to emulate. Animals' ability to love without expectations serves as a reminder of the\n",
       "simplicity and depth of authentic connection.\\n\\nFurthermore, Pythagoras points out that animals\n",
       "share with us the privilege of having a soul. This philosophical insight underscores the spiritual\n",
       "and emotional capacities of animals, suggesting that their expressions of love resonate with a deep,\n",
       "soulful authenticity that can inspire humans to connect more deeply with their own spiritual and\n",
       "emotional natures.\" <span style=\"color: #808000; text-decoration-color: #808000\">key_insights</span>=<span style=\"font-weight: bold\">[</span>'Animals display pure, unconditional love, especially evident in\n",
       "dogs.<span style=\"color: #008000; text-decoration-color: #008000\">', \"Animals'</span> loyalty, gratitude, and predictable nature make their love reliable and\n",
       "exemplary.\", <span style=\"color: #008000; text-decoration-color: #008000\">'The soulful presence of animals suggests a deep spiritual connection with humans.'</span>,\n",
       "<span style=\"color: #008000; text-decoration-color: #008000\">\"Animals' simple expressions of love teach humans about authenticity in relationships.\"</span><span style=\"font-weight: bold\">]</span>\n",
       "<span style=\"color: #808000; text-decoration-color: #808000\">recommended_quotes</span>=<span style=\"font-weight: bold\">[</span>'\"The only creatures that are evolved enough to convey pure love are dogs and\n",
       "infants.<span style=\"color: #008000; text-decoration-color: #008000\">\" - Johnny Depp', '\"</span>Animals are reliable, many full of love, true in their affections,\n",
       "predictable in their actions, grateful and loyal. Difficult standards for people to live up to.\" -\n",
       "Alfred A. Montapert', <span style=\"color: #008000; text-decoration-color: #008000\">'\"Animals share with us the privilege of having a soul.\" - Pythagoras'</span><span style=\"font-weight: bold\">]</span>\n",
       "<span style=\"color: #808000; text-decoration-color: #808000\">follow_up_questions</span>=<span style=\"font-weight: bold\">[</span><span style=\"color: #008000; text-decoration-color: #008000\">'How do animals express other emotions besides love?'</span>, \"What lessons can humans\n",
       "learn from animals' loyalty and reliability?\", 'How do different cultures view the spiritual\n",
       "connection between humans and animals?'<span style=\"font-weight: bold\">]</span>\n",
       "</pre>\n"
      ],
      "text/plain": [
       "\u001b[33manswer\u001b[0m=\u001b[35m\"Animals\u001b[0m teach us profound lessons about love, often exhibiting traits that humans strive to\n",
       "embody. Firstly, according to Johnny Depp, dogs and infants are among the few beings on Earth\n",
       "capable of conveying pure love. This suggests that animals, particularly dogs, possess an innate\n",
       "ability to express unconditional love—a trait humans deeply admire and seek to replicate in their\n",
       "relationships.\\n\\nAlfred A. Montapert expands on this idea by highlighting several qualities of\n",
       "animals, such as being reliable, full of love, true in their affections, predictable, grateful, and\n",
       "loyal. These qualities set challenging yet aspirational standards for love and behavior that people\n",
       "often wish to emulate. Animals' ability to love without expectations serves as a reminder of the\n",
       "simplicity and depth of authentic connection.\\n\\nFurthermore, Pythagoras points out that animals\n",
       "share with us the privilege of having a soul. This philosophical insight underscores the spiritual\n",
       "and emotional capacities of animals, suggesting that their expressions of love resonate with a deep,\n",
       "soulful authenticity that can inspire humans to connect more deeply with their own spiritual and\n",
       "emotional natures.\" \u001b[33mkey_insights\u001b[0m=\u001b[1m[\u001b[0m'Animals display pure, unconditional love, especially evident in\n",
       "dogs.\u001b[32m', \"Animals'\u001b[0m loyalty, gratitude, and predictable nature make their love reliable and\n",
       "exemplary.\", \u001b[32m'The soulful presence of animals suggests a deep spiritual connection with humans.'\u001b[0m,\n",
       "\u001b[32m\"Animals' simple expressions of love teach humans about authenticity in relationships.\"\u001b[0m\u001b[1m]\u001b[0m\n",
       "\u001b[33mrecommended_quotes\u001b[0m=\u001b[1m[\u001b[0m'\"The only creatures that are evolved enough to convey pure love are dogs and\n",
       "infants.\u001b[32m\" - Johnny Depp', '\"\u001b[0mAnimals are reliable, many full of love, true in their affections,\n",
       "predictable in their actions, grateful and loyal. Difficult standards for people to live up to.\" -\n",
       "Alfred A. Montapert', \u001b[32m'\"Animals share with us the privilege of having a soul.\" - Pythagoras'\u001b[0m\u001b[1m]\u001b[0m\n",
       "\u001b[33mfollow_up_questions\u001b[0m=\u001b[1m[\u001b[0m\u001b[32m'How do animals express other emotions besides love?'\u001b[0m, \"What lessons can humans\n",
       "learn from animals' loyalty and reliability?\", 'How do different cultures view the spiritual\n",
       "connection between humans and animals?'\u001b[1m]\u001b[0m\n"
      ]
     },
     "metadata": {},
     "output_type": "display_data"
    }
   ],
   "source": [
    "import textwrap\n",
    "from rich import print\n",
    "\n",
    "text = str(llm_response)\n",
    "\n",
    "formatted_text = textwrap.fill(text, width=100)\n",
    "\n",
    "\n",
    "print(formatted_text)"
   ]
  }
 ],
 "metadata": {
  "kernelspec": {
   "display_name": ".venv",
   "language": "python",
   "name": "python3"
  },
  "language_info": {
   "codemirror_mode": {
    "name": "ipython",
    "version": 3
   },
   "file_extension": ".py",
   "mimetype": "text/x-python",
   "name": "python",
   "nbconvert_exporter": "python",
   "pygments_lexer": "ipython3",
   "version": "3.12.8"
  }
 },
 "nbformat": 4,
 "nbformat_minor": 2
}
