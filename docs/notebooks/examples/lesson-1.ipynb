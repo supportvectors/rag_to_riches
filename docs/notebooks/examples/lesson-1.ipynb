{
 "cells": [
  {
   "cell_type": "code",
   "execution_count": 1,
   "metadata": {},
   "outputs": [
    {
     "data": {
      "text/html": [
       "\n",
       "<!-- Many of the styles here are inspired by: \n",
       "    https://towardsdatascience.com/10-practical-tips-you-need-to-know-to-personalize-jupyter-notebook-fbd202777e20 \n",
       "\n",
       "\n",
       "    On the author's local machine, these exist in the custom.css file. However, in order to keep uniform look and feel, \n",
       "    and at the request of participants, I have added it to this common import-file here.\n",
       "\n",
       "    -->\n",
       "\n",
       "<link href=\"https://fonts.googleapis.com/css?family=Lora:400,700|Montserrat:300\" rel=\"stylesheet\">\n",
       "\n",
       "<link href=\"https://fonts.googleapis.com/css2?family=Crimson+Pro&family=Literata&display=swap\" rel=\"stylesheet\">\n",
       "<style>\n",
       "\n",
       "\n",
       "#ipython_notebook::before{\n",
       " content:\"Rag to Riches\";\n",
       "        color: white;\n",
       "        font-weight: bold;\n",
       "        text-transform: uppercase;\n",
       "        font-family: 'Lora',serif;\n",
       "        font-size:16pt;\n",
       "        margin-bottom:15px;\n",
       "        margin-top:15px;\n",
       "\n",
       "}\n",
       "body > #header {\n",
       "    #background: #D15555;\n",
       "    background: linear-gradient(to bottom, indianred 0%, #fff 100%);\n",
       "    opacity: 0.8;\n",
       "\n",
       "}\n",
       "\n",
       "\n",
       ".navbar-default .navbar-nav > li > a, #kernel_indicator {\n",
       "    color: white;\n",
       "    transition: all 0.25s;\n",
       "    font-size:10pt;\n",
       "    font-family: sans-serif;\n",
       "    font-weight:normal;\n",
       "}\n",
       ".navbar-default {\n",
       "    padding-left:100px;\n",
       "    background: none;\n",
       "    border: none;\n",
       "}\n",
       "\n",
       "\n",
       "body > menubar-container {\n",
       "    background-color: wheat;\n",
       "}\n",
       "#ipython_notebook img{                                                                                        \n",
       "    display:block; \n",
       "\n",
       "    background: url(\"images/logo-poster-transparent.png\") no-repeat;\n",
       "    background-size: contain;\n",
       "\n",
       "    padding-left: 600px;\n",
       "    padding-right: 100px;\n",
       "\n",
       "    -moz-box-sizing: border-box;\n",
       "    box-sizing: border-box;\n",
       "}\n",
       "\n",
       "\n",
       "\n",
       "body {\n",
       " #font-family:  'Literata', serif;\n",
       "    font-family:'Lora', san-serif;\n",
       "    text-align: justify;\n",
       "    font-weight: 400;\n",
       "    font-size: 12pt;\n",
       "}\n",
       "\n",
       "iframe{\n",
       "    width:100%;\n",
       "    min-height:600px;\n",
       "}\n",
       "\n",
       "h1, h2, h3, h4, h5, h6 {\n",
       "# font-family: 'Montserrat', sans-serif;\n",
       " font-family:'Lora', serif;\n",
       " font-weight: 200;\n",
       " text-transform: uppercase;\n",
       " color: #EC7063 ;\n",
       "}\n",
       "\n",
       "h2 {\n",
       "    color: #000080;\n",
       "}\n",
       "\n",
       ".checkpoint_status, .autosave_status {\n",
       "    color:wheat;\n",
       "}\n",
       "\n",
       "#notebook_name {\n",
       "    font-weight: 600;\n",
       "    font-size:20pt;\n",
       "    text-variant:uppercase;\n",
       "    color: wheat; \n",
       "    margin-right:20px;\n",
       "    margin-left:-500px;\n",
       "}\n",
       "#notebook_name:hover {\n",
       "background-color: salmon;\n",
       "}\n",
       "\n",
       "\n",
       ".dataframe { /* dataframe atau table */\n",
       "    background: white;\n",
       "    box-shadow: 0px 1px 2px #bbb;\n",
       "}\n",
       ".dataframe thead th, .dataframe tbody td {\n",
       "    text-align: center;\n",
       "    padding: 1em;\n",
       "}\n",
       "\n",
       ".checkpoint_status, .autosave_status {\n",
       "    color:wheat;\n",
       "}\n",
       "\n",
       ".output {\n",
       "    align-items: center;\n",
       "}\n",
       "\n",
       "div.cell {\n",
       "    transition: all 0.25s;\n",
       "    border: none;\n",
       "    position: relative;\n",
       "    top: 0;\n",
       "}\n",
       "div.cell.selected, div.cell.selected.jupyter-soft-selected {\n",
       "    border: none;\n",
       "    background: transparent;\n",
       "    box-shadow: 0 6px 18px #aaa;\n",
       "    z-index: 10;\n",
       "    top: -10px;\n",
       "}\n",
       ".CodeMirror pre, .CodeMirror-dialog, .CodeMirror-dialog .CodeMirror-search-field, .terminal-app .terminal {\n",
       "    font-family: 'Hack' , serif; \n",
       "    font-weight: 500;\n",
       "    font-size: 14pt;\n",
       "}\n",
       "\n",
       "\n",
       "\n",
       "</style>    \n"
      ],
      "text/plain": [
       "<IPython.core.display.HTML object>"
      ]
     },
     "metadata": {},
     "output_type": "display_data"
    },
    {
     "data": {
      "text/markdown": [
       "\n",
       "\n",
       "<center><img src=\"images/logo-poster-transparent.png\" width=\"400\"/> </center>\n",
       "<div style=\"color:#aaa;font-size:8pt\">\n",
       "<hr/>\n",
       "&copy; SupportVectors. All rights reserved. <blockquote>This notebook is the intellectual property of SupportVectors, and part of its training material. \n",
       "Only the participants in SupportVectors workshops are allowed to study the notebooks for educational purposes currently, but is prohibited from copying or using it for any other purposes without written permission.\n",
       "\n",
       "<b> These notebooks are chapters and sections from Asif Qamar's textbook that he is writing on Data Science. So we request you to not circulate the material to others.</b>\n",
       " </blockquote>\n",
       " <hr/>\n",
       "</div>\n",
       "\n"
      ],
      "text/plain": [
       "<IPython.core.display.Markdown object>"
      ]
     },
     "metadata": {},
     "output_type": "display_data"
    },
    {
     "name": "stdout",
     "output_type": "stream",
     "text": [
      "🎯 Project root: /Users/asifqamar/github/rag_to_riches\n",
      "📁 Working directory: /Users/asifqamar/github/rag_to_riches\n",
      "✅ Ready to import rag_to_riches modules!\n"
     ]
    }
   ],
   "source": [
    "%run supportvectors-common.ipynb"
   ]
  },
  {
   "cell_type": "markdown",
   "metadata": {
    "vscode": {
     "languageId": "raw"
    }
   },
   "source": [
    "# RAG to Riches: Lesson 1 - The Power of Semantic Search\n",
    "\n",
    "## 🎯 Learning Objectives\n",
    "\n",
    "By the end of this lesson, you will understand:\n",
    "\n",
    "1. **What** semantic search is and how it differs from traditional keyword search\n",
    "2. **Why** semantic search is revolutionary for information retrieval\n",
    "3. **Where** semantic search excels and its best use cases\n",
    "4. **How** to implement semantic search with embeddings and vector databases\n",
    "\n",
    "---\n",
    "\n",
    "## 📚 Table of Contents\n",
    "\n",
    "0. [The Intuition Behind Semantic Search](#intuition)\n",
    "\n",
    "1. [The Three W's of Semantic Search](#the-three-ws)\n",
    "   - [What is Semantic Search?](#what)\n",
    "   - [Why Semantic Search?](#why) \n",
    "   - [Where to Use Semantic Search?](#where)\n",
    "\n",
    "2. [The HOW: Implementation Deep Dive](#implementation)\n",
    "   - [Data Structure: AnimalQuote Examples](#data-structure)\n",
    "   - [The Indexing Pipeline](#indexing-pipeline)\n",
    "   - [The Search Process](#search-process)\n",
    "   - [Hands-on Examples](#examples)\n",
    "\n",
    "3. [Key Takeaways](#takeaways)\n",
    "\n",
    "---\n"
   ]
  },
  {
   "cell_type": "markdown",
   "metadata": {},
   "source": [
    "## The Intuition Behind Semantic Search {#intuition}\n",
    "\n",
    "# Semantic search\n",
    "\n",
    "Traditionally, one would search through a corpus of documents using a keywords-based search engine like Lucene, Solr, ElasticSearch, etc. While the technology has matured, the basic underlying approach behind keyword search engines is to maintain an *inverted-index* mapping keywords to a list of documents that contain them, with associated relevances.\n",
    "\n",
    "In general, the keywords-based search approach has been quite successful over the years, and have matured with added features and linguistic capabilities.\n",
    "\n",
    "However, this approach has had its limitations. The principal cause of it goes to the fact that when we enter keywords, it is a human tendency to describe the intent of what we are looking for. For example, if we enter \"breakfast places\", we implicitly also mean restaurants, cafe, etc that serve items appropriate for breakfast. There may be a restaurant described as a shop for expresso, or crepe, that a keywords-search will likely miss, since its keywords do not match the query terms. And yet, we would hope to see it near the top of the search results.\n",
    "\n",
    "Semantic search is an NLP approach largely relying on deep-neural networks, and in particular, the transformers that make it possible to more closely infer the human intent behind the search terms, the relationship between the words, and the underlying context. It allows for entire sentences -- and even paragraphs -- describing what the searcher's intent is, and retrieves results more relevant or aligned to it.\n",
    "\n",
    "## How would we do this NLP task with AI?\n",
    "\n",
    "Let us represent the functional behavior we expect: \n",
    "\n",
    "\n",
    "![](images/semantic-search-functionality.png)\n",
    "\n",
    "\n",
    "### Magic happens: breaking it down into steps\n",
    "\n",
    "We recall that machine-learning algorithms work with vectors ($\\mathbf{X}$) representation of data.\n",
    "\n",
    "So the first order of business would be to map each of the document texts $D_i$ to its corresponding vector $X_i$ in an appropriate $d$-dimensional space, $\\mathbb{R}^d$, i.e.\n",
    "\n",
    "\\begin{equation}\n",
    "D_i \\longrightarrow X_i \\in \\mathbb{R}^d\n",
    "\\end{equation}\n",
    "\n",
    "This resulting vectors are called **sentence embeddings**. Once these embeddings are for each of the documents, we can store the collection of tuples $[<D_1, X_1>, <D_2, X_2>, ..., <D_n, X_n>]$. Here each tuple corresponds to a document and its sentence embedding.\n",
    "\n",
    "This collection of tuples, therefore, becomes our **search index**.\n",
    "\n",
    "### Search\n",
    "\n",
    "Now, when the user described what she is looking for, we consider the entire text as a \"sentence\".\n",
    "<p>\n",
    "<div class=\"alert-box alert-warning\" style=\"padding-top:30px\">\n",
    "   \n",
    "<b >Caveat Emptor</b>\n",
    "\n",
    "> Note that we have a rather relaxed definition of a *sentence* in NLP: it diverges from a grammmatical definition of a sentence somewhat.  For example, in the English language, we would consider a sentence to be terminated with a punctuation, such as a period, question-mark or exclamation. However, in NLP, we loosely consider the entire text -- whether it is just a word, or a few keywords, or an english sentence, or a few sentences together -- as one **sentence** for the purposes of natual language processing task.\n",
    "    \n",
    "<p>\n",
    "</div>\n",
    "    \n",
    "Therefore, it is common to consider an entire document text as a *sentence* if the text is relatively short. Alternatively, it is partitioned into smaller chunks (of say 512-tokens each), and each such chunk is considered an NLP *sentence*.\n",
    "\n",
    "Since we consider the entire query text as a sentence, we can map it to its **sentence embedding vector**, ${Q}$.\n",
    "\n",
    "#### Vector Similarity\n",
    "Once we have this, we simply need to compare the query vector ${Q}$ with each of the document vectors $X_i$, and sort the document vectors in descending order of similarity.\n",
    "\n",
    "The rest is trivial: pick the top-k  in the sorted document vectors list. Then for each vector, look up its corresponding document, and return the list as sorted search result of relevant document.\n",
    "\n",
    "We expect that these documents will exhibit high semantic similarity with the search query, assuming that the search index did contain such documents.\n",
    "\n",
    "<figure>\n",
    "    <img src=\"https://raw.githubusercontent.com/UKPLab/sentence-transformers/master/docs/img/SemanticSearch.png\">\n",
    "    <caption> Semantic similarity as vector proximity in the embedding space. <br>\n",
    "    (Figure source: Sbert.net documentation).\n",
    "    </caption>\n",
    "</figure>\n",
    "\n",
    "\n",
    "#### Similarity measures\n",
    "\n",
    "The sentence embedding vectors typically exist in very large dimensional space (e.g., 300 dimensions). In such large dimensional spaces, the notion of euclidean distance is not as effective. Therefore, it is far more common to use one of the two below measures for vector similarity:\n",
    "\n",
    "* **dot-product**, the (inner) dot-product between the embedding vectors.\n",
    "\n",
    "\\begin{equation}\n",
    "\\text{dot-similarity} = \\langle X_i, X_j \\rangle\n",
    "\\end{equation}\n",
    "\n",
    "* **cosine-similarity**, the $\\cos \\left(\\theta_{ij}\\right)$ gives degree of directional alignment between the vectors, but ignores their magnitudes. Here, $\\theta_{ij}$ is the angle between $X_i$ and $X_j$ (embedding) vectors.\n",
    "\n",
    "\\begin{equation} \n",
    "\\text{cosine-similarity} = \\frac{\\langle X_i, X_j \\rangle} {\\| X_i \\| \\| X_j \\|}\n",
    "\\end{equation}\n",
    "\n",
    "<div class=\"alert-box alert-info\" style=\"padding-top:30px\">\n",
    "   \n",
    "**Important**\n",
    "    \n",
    ">  Sentence transformer models trained with cosine-similarity tend to favor the shorter document texts in the search results, whereas the models trained on the dot-product similarity tend to favor longer texts.\n",
    "</div>"
   ]
  },
  {
   "cell_type": "markdown",
   "metadata": {
    "vscode": {
     "languageId": "raw"
    }
   },
   "source": [
    "## 🔍 The Three W's of Semantic Search {#the-three-ws}\n",
    "\n",
    "### What is Semantic Search? {#what}\n",
    "\n",
    "**Semantic search** is an information retrieval technique that understands the **meaning** and **context** of queries and documents, rather than just matching exact keywords.\n",
    "\n",
    "#### Traditional Keyword Search vs. Semantic Search\n",
    "\n",
    "| Aspect | Keyword Search | Semantic Search |\n",
    "|--------|----------------|-----------------|\n",
    "| **Matching** | Exact text matches | Conceptual similarity |\n",
    "| **Understanding** | Lexical (word-level) | Semantic (meaning-level) |\n",
    "| **Query** | \"dog loyalty\" | \"dog loyalty\" |\n",
    "| **Finds** | Documents containing \"dog\" AND \"loyalty\" | Documents about faithful pets, even without exact words |\n",
    "| **Technology** | TF-IDF, BM25, Boolean logic | Neural embeddings, vector similarity |\n",
    "\n",
    "#### Key Concepts\n",
    "\n",
    "- **Embeddings**: Dense vector representations of text that capture semantic meaning\n",
    "- **Vector Space**: High-dimensional space where similar concepts are positioned close together\n",
    "- **Cosine Similarity**: Mathematical measure of how similar two vectors (meanings) are\n",
    "- **Dense Retrieval**: Finding relevant information based on semantic similarity rather than keyword overlap\n",
    "\n",
    "### Why Semantic Search? {#why}\n",
    "\n",
    "Semantic search has **revolutionized** information retrieval in several fundamental ways:\n",
    "\n",
    "#### 🎯 **1. Intent Understanding**\n",
    "- **Problem**: User searches \"best friend\" but documents say \"loyal companion\"\n",
    "- **Solution**: Semantic search understands these concepts are related\n",
    "- **Impact**: 40-60% improvement in search relevance\n",
    "\n",
    "#### 🌐 **2. Language Flexibility** \n",
    "- **Synonyms**: \"automobile\" matches \"car\", \"vehicle\", \"auto\"\n",
    "- **Paraphrasing**: \"How to cook pasta\" matches \"pasta preparation methods\"\n",
    "- **Multilingual**: Can work across languages with multilingual embeddings\n",
    "\n",
    "#### 🧠 **3. Context Awareness**\n",
    "- **Polysemy**: \"bank\" (financial) vs \"bank\" (river) - context determines meaning\n",
    "- **Nuanced queries**: \"sad movie that makes you cry\" vs \"sad movie with bad reviews\"\n",
    "- **Conceptual search**: Find documents about concepts, not just keywords\n",
    "\n",
    "#### 📈 **4. Transformational Impact on Industries**\n",
    "\n",
    "- **Search Engines**: Google's BERT (2019) improved 10% of search queries\n",
    "- **E-commerce**: Amazon's semantic search increased conversion rates by 15-25%\n",
    "- **Enterprise**: Microsoft's semantic search in Office 365 improved productivity\n",
    "- **Legal**: Semantic search helps lawyers find relevant case law beyond keyword matches\n",
    "\n",
    "### Where to Use Semantic Search? {#where}\n",
    "\n",
    "#### 🏆 **Best Use Cases**\n",
    "\n",
    "1. **Document Collections with Rich Content**\n",
    "   - Research papers, articles, books\n",
    "   - Legal documents, contracts\n",
    "   - Medical records, patient notes\n",
    "   - **Our use case**: Animal wisdom quotes\n",
    "\n",
    "2. **Customer Support & FAQ**\n",
    "   - Users ask questions in natural language\n",
    "   - Need to find relevant answers regardless of exact wording\n",
    "   - Example: \"My order is late\" → finds \"delivery delays\" content\n",
    "\n",
    "3. **Product Discovery**\n",
    "   - E-commerce: \"comfortable running shoes for flat feet\"\n",
    "   - Real estate: \"cozy family home near good schools\"\n",
    "   - Content: \"funny movies for date night\"\n",
    "\n",
    "4. **Knowledge Management**\n",
    "   - Corporate wikis and documentation\n",
    "   - Research databases\n",
    "   - Personal note-taking systems (Obsidian, Notion)\n",
    "\n",
    "#### ⚠️ **When NOT to Use Semantic Search**\n",
    "\n",
    "1. **Exact Match Requirements**\n",
    "   - Legal document numbers, product SKUs\n",
    "   - Code search (variable names, function signatures)\n",
    "   - Database queries with specific criteria\n",
    "\n",
    "2. **Very Small Datasets**\n",
    "   - < 100 documents: keyword search may be sufficient\n",
    "   - Overhead of embeddings not justified\n",
    "\n",
    "3. **Highly Technical/Domain-Specific**\n",
    "   - Without domain-specific embeddings\n",
    "   - Very specialized jargon that general models don't understand\n",
    "\n",
    "---\n"
   ]
  },
  {
   "cell_type": "markdown",
   "metadata": {
    "vscode": {
     "languageId": "raw"
    }
   },
   "source": [
    "## 🛠️ The HOW: Implementation Deep Dive {#implementation}\n",
    "\n",
    "Now that we understand the **what**, **why**, and **where** of semantic search, let's dive into the **how**. We'll use our **Animals Wisdom Quotes** corpus to demonstrate a complete semantic search implementation.\n",
    "\n",
    "### 📊 Data Structure: AnimalQuote Examples {#data-structure}\n",
    "\n",
    "Let's first examine the structure of our data and see some example quotes to understand what we're working with.\n"
   ]
  },
  {
   "cell_type": "code",
   "execution_count": 2,
   "metadata": {},
   "outputs": [
    {
     "name": "stderr",
     "output_type": "stream",
     "text": [
      "WARNING:root:No configuration file specified. Trying the default location\n",
      "WARNING:root:Loading configuration from /Users/asifqamar/github/rag_to_riches/config.yaml if it exists\n"
     ]
    },
    {
     "name": "stdout",
     "output_type": "stream",
     "text": [
      "🐾 Modules imported successfully!\n",
      "📁 Current working directory: /Users/asifqamar/github/rag_to_riches\n"
     ]
    }
   ],
   "source": [
    "# Import required modules\n",
    "from pathlib import Path\n",
    "import json\n",
    "from rag_to_riches.corpus.animals import AnimalQuote, AnimalWisdom, Animals\n",
    "from rag_to_riches.vectordb.embedded_vectordb import EmbeddedVectorDB\n",
    "from rag_to_riches.vectordb.embedder import SimpleTextEmbedder\n",
    "\n",
    "print(\"🐾 Modules imported successfully!\")\n",
    "print(\"📁 Current working directory:\", Path.cwd())\n"
   ]
  },
  {
   "cell_type": "code",
   "execution_count": 3,
   "metadata": {},
   "outputs": [
    {
     "name": "stderr",
     "output_type": "stream",
     "text": [
      "\u001b[32m2025-06-28 12:44:47\u001b[0m | \u001b[1mINFO    \u001b[0m | \u001b[36mrag_to_riches.vectordb.embedded_vectordb\u001b[0m:\u001b[36m__init__\u001b[0m:\u001b[36m58\u001b[0m - \u001b[1mConnected to embedded vector database at qdrant_db\u001b[0m\n"
     ]
    },
    {
     "name": "stdout",
     "output_type": "stream",
     "text": [
      "🔧 Initializing Shared Components for the Entire Notebook\n",
      "============================================================\n",
      "1️⃣ Initializing Vector Database (Qdrant)...\n",
      "   ✅ Vector database connected and ready for reuse\n",
      "\n",
      "2️⃣ Initializing Text Embedder (Sentence Transformers)...\n"
     ]
    },
    {
     "name": "stderr",
     "output_type": "stream",
     "text": [
      "\u001b[32m2025-06-28 12:44:48\u001b[0m | \u001b[1mINFO    \u001b[0m | \u001b[36mrag_to_riches.vectordb.embedder\u001b[0m:\u001b[36m__init__\u001b[0m:\u001b[36m115\u001b[0m - \u001b[1mInitialized SimpleTextEmbedder with model 'sentence-transformers/all-MiniLM-L6-v2', vector size: 384\u001b[0m\n"
     ]
    },
    {
     "name": "stdout",
     "output_type": "stream",
     "text": [
      "   ✅ Embedder loaded: sentence-transformers/all-MiniLM-L6-v2\n",
      "   📐 Vector dimensions: 384\n",
      "   📏 Distance metric: Cosine\n",
      "\n",
      "🎯 Shared components ready! These will be reused throughout the notebook.\n",
      "💡 This prevents database lock issues and improves performance.\n",
      "\n",
      "📝 Note: If you encounter a database lock error, restart the notebook kernel.\n",
      "   This ensures a clean start and releases any existing database connections.\n"
     ]
    }
   ],
   "source": [
    "# 🚀 Initialize Shared Components (Vector Database & Embedder)\n",
    "# ============================================================================\n",
    "# We initialize these components ONCE at the beginning to avoid database lock issues\n",
    "# and reuse them throughout the notebook for efficiency and consistency.\n",
    "\n",
    "print(\"🔧 Initializing Shared Components for the Entire Notebook\")\n",
    "print(\"=\" * 60)\n",
    "\n",
    "# Initialize Vector Database (shared instance)\n",
    "print(\"1️⃣ Initializing Vector Database (Qdrant)...\")\n",
    "vector_db = EmbeddedVectorDB()\n",
    "print(\"   ✅ Vector database connected and ready for reuse\")\n",
    "\n",
    "# Initialize Text Embedder (shared instance)  \n",
    "print(\"\\n2️⃣ Initializing Text Embedder (Sentence Transformers)...\")\n",
    "embedder = SimpleTextEmbedder(model_name=\"sentence-transformers/all-MiniLM-L6-v2\")\n",
    "print(f\"   ✅ Embedder loaded: {embedder.model_name}\")\n",
    "print(f\"   📐 Vector dimensions: {embedder.get_vector_size()}\")\n",
    "print(f\"   📏 Distance metric: {embedder.get_distance_metric()}\")\n",
    "\n",
    "print(\"\\n🎯 Shared components ready! These will be reused throughout the notebook.\")\n",
    "print(\"💡 This prevents database lock issues and improves performance.\")\n",
    "\n",
    "# Set the data path\n",
    "jsonl_path = Path(\"data/corpus/animals/animals.jsonl\")\n",
    "\n",
    "print(\"\\n📝 Note: If you encounter a database lock error, restart the notebook kernel.\")\n",
    "print(\"   This ensures a clean start and releases any existing database connections.\")\n"
   ]
  },
  {
   "cell_type": "code",
   "execution_count": 4,
   "metadata": {},
   "outputs": [
    {
     "name": "stdout",
     "output_type": "stream",
     "text": [
      "📂 Reading from: data/corpus/animals/animals.jsonl\n",
      "📄 File exists: True\n"
     ]
    }
   ],
   "source": [
    "# Let's examine the structure of our animal quotes data\n",
    "print(f\"📂 Reading from: {jsonl_path}\")\n",
    "print(f\"📄 File exists: {jsonl_path.exists()}\")\n"
   ]
  },
  {
   "cell_type": "code",
   "execution_count": 5,
   "metadata": {},
   "outputs": [
    {
     "name": "stderr",
     "output_type": "stream",
     "text": [
      "\u001b[32m2025-06-28 12:44:48\u001b[0m | \u001b[1mINFO    \u001b[0m | \u001b[36mrag_to_riches.vectordb.embedded_vectordb\u001b[0m:\u001b[36m_ensure_existing_collection_matches\u001b[0m:\u001b[36m469\u001b[0m - \u001b[1mCollection 'animals' exists with correct parameters\u001b[0m\n",
      "\u001b[32m2025-06-28 12:44:48\u001b[0m | \u001b[1mINFO    \u001b[0m | \u001b[36mrag_to_riches.vectordb.embedded_vectordb\u001b[0m:\u001b[36mget_collection_info\u001b[0m:\u001b[36m295\u001b[0m - \u001b[1mRetrieved info for collection 'animals'\u001b[0m\n",
      "\u001b[32m2025-06-28 12:44:48\u001b[0m | \u001b[1mINFO    \u001b[0m | \u001b[36mrag_to_riches.search.semantic_search\u001b[0m:\u001b[36mconsistency_check\u001b[0m:\u001b[36m233\u001b[0m - \u001b[1mConsistency check passed for collection 'animals'\u001b[0m\n",
      "\u001b[32m2025-06-28 12:44:48\u001b[0m | \u001b[1mINFO    \u001b[0m | \u001b[36mrag_to_riches.search.semantic_search\u001b[0m:\u001b[36m__init__\u001b[0m:\u001b[36m182\u001b[0m - \u001b[1mInitialized SemanticSearch for collection 'animals' with SimpleTextEmbedder\u001b[0m\n",
      "\u001b[32m2025-06-28 12:44:48\u001b[0m | \u001b[1mINFO    \u001b[0m | \u001b[36mrag_to_riches.corpus.animals\u001b[0m:\u001b[36m__init__\u001b[0m:\u001b[36m208\u001b[0m - \u001b[1mInitialized Animals corpus loader for collection 'animals'\u001b[0m\n",
      "\u001b[32m2025-06-28 12:44:48\u001b[0m | \u001b[1mINFO    \u001b[0m | \u001b[36mrag_to_riches.corpus.animals\u001b[0m:\u001b[36mrecreate_collection\u001b[0m:\u001b[36m336\u001b[0m - \u001b[1mDeleting existing collection 'animals'\u001b[0m\n",
      "\u001b[32m2025-06-28 12:44:48\u001b[0m | \u001b[1mINFO    \u001b[0m | \u001b[36mrag_to_riches.vectordb.embedded_vectordb\u001b[0m:\u001b[36mdelete_collection\u001b[0m:\u001b[36m185\u001b[0m - \u001b[1mDeleted collection 'animals'\u001b[0m\n",
      "\u001b[32m2025-06-28 12:44:48\u001b[0m | \u001b[1mINFO    \u001b[0m | \u001b[36mrag_to_riches.corpus.animals\u001b[0m:\u001b[36mrecreate_collection\u001b[0m:\u001b[36m340\u001b[0m - \u001b[1mCreating new empty collection 'animals'\u001b[0m\n",
      "\u001b[32m2025-06-28 12:44:48\u001b[0m | \u001b[1mINFO    \u001b[0m | \u001b[36mrag_to_riches.vectordb.embedded_vectordb\u001b[0m:\u001b[36mcreate_collection\u001b[0m:\u001b[36m154\u001b[0m - \u001b[1mCreated collection 'animals' with vector size 384\u001b[0m\n",
      "\u001b[32m2025-06-28 12:44:48\u001b[0m | \u001b[1mINFO    \u001b[0m | \u001b[36mrag_to_riches.corpus.animals\u001b[0m:\u001b[36mrecreate_collection\u001b[0m:\u001b[36m350\u001b[0m - \u001b[1mSuccessfully recreated empty collection 'animals'\u001b[0m\n",
      "\u001b[32m2025-06-28 12:44:48\u001b[0m | \u001b[1mINFO    \u001b[0m | \u001b[36mrag_to_riches.corpus.animals\u001b[0m:\u001b[36mload_from_jsonl\u001b[0m:\u001b[36m268\u001b[0m - \u001b[1mLoaded 100 animal quotes from data/corpus/animals/animals.jsonl\u001b[0m\n"
     ]
    },
    {
     "name": "stdout",
     "output_type": "stream",
     "text": [
      "🔧 Creating Animals corpus loader using shared components...\n",
      "📊 Loading and indexing animal quotes...\n"
     ]
    },
    {
     "name": "stderr",
     "output_type": "stream",
     "text": [
      "\u001b[32m2025-06-28 12:44:49\u001b[0m | \u001b[1mINFO    \u001b[0m | \u001b[36mrag_to_riches.vectordb.embedded_vectordb\u001b[0m:\u001b[36mupsert_points\u001b[0m:\u001b[36m450\u001b[0m - \u001b[1mUpserted 100 points to collection 'animals'\u001b[0m\n",
      "\u001b[32m2025-06-28 12:44:49\u001b[0m | \u001b[1mINFO    \u001b[0m | \u001b[36mrag_to_riches.search.semantic_search\u001b[0m:\u001b[36mindex_all_text\u001b[0m:\u001b[36m457\u001b[0m - \u001b[1mIndexed 100 texts into collection 'animals'\u001b[0m\n",
      "\u001b[32m2025-06-28 12:44:49\u001b[0m | \u001b[1mINFO    \u001b[0m | \u001b[36mrag_to_riches.corpus.animals\u001b[0m:\u001b[36mindex_all_quotes\u001b[0m:\u001b[36m311\u001b[0m - \u001b[1mSuccessfully indexed 100 animal quotes into collection 'animals'\u001b[0m\n"
     ]
    }
   ],
   "source": [
    "# 📚 Load and Index Animal Quotes Using Shared Components\n",
    "print(\"🔧 Creating Animals corpus loader using shared components...\")\n",
    "animals_loader = Animals(\n",
    "    vector_db=vector_db,  # Reusing shared vector_db instance\n",
    "    embedder=embedder,    # Reusing shared embedder instance\n",
    ")\n",
    "\n",
    "animals_loader.recreate_collection()\n",
    "\n",
    "print(\"📊 Loading and indexing animal quotes...\")\n",
    "wisdom, point_ids = animals_loader.load_and_index(jsonl_path)\n",
    "        "
   ]
  },
  {
   "cell_type": "code",
   "execution_count": 6,
   "metadata": {},
   "outputs": [
    {
     "name": "stderr",
     "output_type": "stream",
     "text": [
      "\u001b[32m2025-06-28 12:44:49\u001b[0m | \u001b[1mINFO    \u001b[0m | \u001b[36mrag_to_riches.vectordb.embedded_vectordb\u001b[0m:\u001b[36mcount_points\u001b[0m:\u001b[36m105\u001b[0m - \u001b[1mCollection 'animals' contains 100 points\u001b[0m\n"
     ]
    },
    {
     "name": "stdout",
     "output_type": "stream",
     "text": [
      "✅ Successfully loaded and indexed animal quotes!\n",
      "📊 Loaded 100 quotes from data/corpus/animals/animals.jsonl\n",
      "🔗 Indexed 100 points into collection 'animals'\n",
      "\n",
      "📈 Collection Statistics:\n",
      "   • Collection Name: animals\n",
      "   • Points in Database: 100\n",
      "   • Unique Categories: 20\n",
      "   • Unique Authors: 85\n",
      "\n",
      "🏷️ Sample Categories: Animal Morality, Animals as Reflections, Animals in Narrative...\n",
      "✍️ Sample Authors: A.A. Milne, A.P.J. Abdul Kalam, Abraham Lincoln, African proverb, Albert Schweitzer...\n",
      "\n",
      "🎯 Ready for semantic search!\n"
     ]
    }
   ],
   "source": [
    "# Display information about what was loaded and indexed\n",
    "print(f\"✅ Successfully loaded and indexed animal quotes!\")\n",
    "print(f\"📊 Loaded {len(wisdom)} quotes from {wisdom.source_file}\")\n",
    "print(f\"🔗 Indexed {len(point_ids)} points into collection '{animals_loader.collection_name}'\")\n",
    "\n",
    "# Show some statistics\n",
    "stats = animals_loader.get_collection_stats()\n",
    "print(f\"\\n📈 Collection Statistics:\")\n",
    "print(f\"   • Collection Name: {stats['collection_name']}\")\n",
    "print(f\"   • Points in Database: {stats['point_count']}\")\n",
    "print(f\"   • Unique Categories: {len(stats['categories'])}\")\n",
    "print(f\"   • Unique Authors: {len(stats['authors'])}\")\n",
    "\n",
    "print(f\"\\n🏷️ Sample Categories: {', '.join(stats['categories'][:3])}...\")\n",
    "print(f\"✍️ Sample Authors: {', '.join(stats['authors'][:5])}...\")\n",
    "\n",
    "print(f\"\\n🎯 Ready for semantic search!\")\n"
   ]
  },
  {
   "cell_type": "markdown",
   "metadata": {
    "vscode": {
     "languageId": "raw"
    }
   },
   "source": [
    "### 🔧 The Indexing Pipeline {#indexing-pipeline}\n",
    "\n",
    "The semantic search indexing pipeline consists of several key steps:\n",
    "\n",
    "```\n",
    "Raw Data (JSONL) → AnimalQuote Objects → AnimalWisdom Collection → Embeddings → Vector Database\n",
    "```\n",
    "\n",
    "#### Step-by-Step Process:\n",
    "\n",
    "1. **Data Loading**: Parse JSONL into validated `AnimalQuote` objects\n",
    "2. **Collection Creation**: Group quotes into `AnimalWisdom` container\n",
    "3. **Embedding Generation**: Convert text to dense vectors using neural models\n",
    "4. **Vector Storage**: Store embeddings + metadata in Qdrant vector database\n",
    "5. **Indexing**: Create efficient search indices for fast retrieval\n",
    "\n",
    "#### Key Components:\n",
    "\n",
    "- **📝 AnimalQuote**: Individual quote with validation\n",
    "- **📚 AnimalWisdom**: Collection of quotes with analysis methods  \n",
    "- **🧠 Embedder**: Neural model that converts text → vectors\n",
    "- **🗄️ VectorDB**: Qdrant database for storing and searching vectors\n",
    "- **🔍 Animals**: Orchestrator class that manages the entire pipeline\n"
   ]
  },
  {
   "cell_type": "markdown",
   "metadata": {
    "vscode": {
     "languageId": "raw"
    }
   },
   "source": [
    "### 🔍 Understanding Embeddings: The Magic Behind Semantic Search\n",
    "\n",
    "Before we dive into search examples, let's understand what happens when we convert text to embeddings.\n",
    "\n",
    "#### What are Embeddings?\n",
    "\n",
    "**Embeddings** are dense vector representations of text that capture semantic meaning in a high-dimensional space. Each dimension represents some aspect of meaning that the neural model has learned.\n",
    "\n",
    "#### Key Properties:\n",
    "- **Dense**: Every dimension has a meaningful value (vs sparse keyword vectors)\n",
    "- **Semantic**: Similar meanings → similar vectors  \n",
    "- **High-dimensional**: Our model uses 384 dimensions\n",
    "- **Learned**: Trained on massive text corpora to understand language\n"
   ]
  },
  {
   "cell_type": "markdown",
   "metadata": {
    "vscode": {
     "languageId": "raw"
    }
   },
   "source": [
    "### 🎯 The Search Process {#search-process}\n",
    "\n",
    "Now let's explore how semantic search works in practice. The search process involves:\n",
    "\n",
    "1. **Query Embedding**: Convert the search query into a vector\n",
    "2. **Similarity Calculation**: Compare query vector with all stored vectors  \n",
    "3. **Ranking**: Sort results by similarity score (cosine similarity)\n",
    "4. **Filtering**: Apply metadata filters (author, category, score threshold)\n",
    "5. **Return Results**: Present top-k most similar documents\n",
    "\n",
    "#### Search Types We'll Demonstrate:\n",
    "\n",
    "1. **Basic Semantic Search**: Find conceptually similar quotes\n",
    "2. **Author-Filtered Search**: Search within specific author's quotes  \n",
    "3. **Category-Filtered Search**: Search within specific categories\n",
    "4. **High-Confidence Search**: Only return very similar results\n",
    "5. **Combined Filters**: Multiple criteria simultaneously\n"
   ]
  },
  {
   "cell_type": "code",
   "execution_count": 7,
   "metadata": {},
   "outputs": [
    {
     "name": "stdout",
     "output_type": "stream",
     "text": [
      "🛠️ Search helper function defined!\n"
     ]
    }
   ],
   "source": [
    "# Helper function to display search results nicely\n",
    "def display_search_results(results, search_description, max_text_length=120):\n",
    "    \"\"\"Display search results in a formatted way.\"\"\"\n",
    "    print(f\"\\n🔍 {search_description}\")\n",
    "    print(\"=\" * len(f\"🔍 {search_description}\"))\n",
    "    \n",
    "    if not results:\n",
    "        print(\"   ❌ No results found.\")\n",
    "        return\n",
    "    \n",
    "    print(f\"   📊 Found {len(results)} results\")\n",
    "    print()\n",
    "    \n",
    "    for i, result in enumerate(results, 1):\n",
    "        content = result.payload.get(\"content\", \"\")\n",
    "        author = result.payload.get(\"author\", \"Unknown\")\n",
    "        category = result.payload.get(\"category\", \"Unknown\")\n",
    "        \n",
    "        # Truncate long quotes for readability\n",
    "        display_content = content if len(content) <= max_text_length else content[:max_text_length-3] + \"...\"\n",
    "        \n",
    "        print(f\"   {i}. 📊 Score: {result.score:.3f}\")\n",
    "        print(f\"      💬 Quote: \\\"{display_content}\\\"\")\n",
    "        print(f\"      ✍️  Author: {author}\")\n",
    "        print(f\"      🏷️  Category: {category}\")\n",
    "        print()\n",
    "\n",
    "print(\"🛠️ Search helper function defined!\")\n"
   ]
  },
  {
   "cell_type": "markdown",
   "metadata": {
    "vscode": {
     "languageId": "raw"
    }
   },
   "source": [
    "### 🎪 Hands-on Search Examples {#examples}\n",
    "\n",
    "Now for the exciting part! Let's demonstrate the power of semantic search with various examples that showcase different capabilities.\n"
   ]
  },
  {
   "cell_type": "code",
   "execution_count": 8,
   "metadata": {},
   "outputs": [
    {
     "name": "stderr",
     "output_type": "stream",
     "text": [
      "\u001b[32m2025-06-28 12:44:49\u001b[0m | \u001b[1mINFO    \u001b[0m | \u001b[36mrag_to_riches.vectordb.embedded_vectordb\u001b[0m:\u001b[36msearch_points\u001b[0m:\u001b[36m413\u001b[0m - \u001b[1mFound 4 points in collection 'animals'\u001b[0m\n",
      "\u001b[32m2025-06-28 12:44:49\u001b[0m | \u001b[1mINFO    \u001b[0m | \u001b[36mrag_to_riches.search.semantic_search\u001b[0m:\u001b[36msearch_with_text\u001b[0m:\u001b[36m347\u001b[0m - \u001b[1mText search for 'a friendship with animals...' returned 4 results\u001b[0m\n",
      "\u001b[32m2025-06-28 12:44:49\u001b[0m | \u001b[1mINFO    \u001b[0m | \u001b[36mrag_to_riches.corpus.animals\u001b[0m:\u001b[36msearch\u001b[0m:\u001b[36m426\u001b[0m - \u001b[1mAnimal quotes search for 'a friendship with animals...' returned 4 results\u001b[0m\n"
     ]
    },
    {
     "name": "stdout",
     "output_type": "stream",
     "text": [
      "🎯 EXAMPLE 0: Basic Semantic Search\n",
      "==================================================\n",
      "Query: 'a friendship with animals'\n",
      "\n",
      "🔍 Basic Semantic Search Results\n",
      "===============================\n",
      "   📊 Found 4 results\n",
      "\n",
      "   1. 📊 Score: 0.625\n",
      "      💬 Quote: \"Animals are such agreeable friends—they ask no questions; they pass no criticisms.\"\n",
      "      ✍️  Author: George Eliot\n",
      "      🏷️  Category: Famous Literary Passages\n",
      "\n",
      "   2. 📊 Score: 0.586\n",
      "      💬 Quote: \"The best thing about animals is that they don't talk much.\"\n",
      "      ✍️  Author: Thornton Wilder\n",
      "      🏷️  Category: Famous Literary Passages\n",
      "\n",
      "   3. 📊 Score: 0.548\n",
      "      💬 Quote: \"Some people talk to animals. Not many listen though. That's the problem.\"\n",
      "      ✍️  Author: A.A. Milne\n",
      "      🏷️  Category: Proverbs and Sayings\n",
      "\n",
      "   4. 📊 Score: 0.535\n",
      "      💬 Quote: \"Animals are reliable, many full of love, true in their affections, predictable in their actions, grateful and loyal. ...\"\n",
      "      ✍️  Author: Alfred A. Montapert\n",
      "      🏷️  Category: Reflections and Lessons\n",
      "\n"
     ]
    }
   ],
   "source": [
    "# Example 1: Basic Semantic Search - The Power of Meaning\n",
    "print(\"🎯 EXAMPLE 0: Basic Semantic Search\")\n",
    "print(\"=\" * 50)\n",
    "print(\"Query: 'a friendship with animals'\")\n",
    "\n",
    "\n",
    "results = animals_loader.search(\"a friendship with animals\", limit=4)\n",
    "display_search_results(results, \"Basic Semantic Search Results\")"
   ]
  },
  {
   "cell_type": "code",
   "execution_count": 9,
   "metadata": {},
   "outputs": [
    {
     "name": "stderr",
     "output_type": "stream",
     "text": [
      "\u001b[32m2025-06-28 12:44:49\u001b[0m | \u001b[1mINFO    \u001b[0m | \u001b[36mrag_to_riches.vectordb.embedded_vectordb\u001b[0m:\u001b[36msearch_points\u001b[0m:\u001b[36m413\u001b[0m - \u001b[1mFound 4 points in collection 'animals'\u001b[0m\n",
      "\u001b[32m2025-06-28 12:44:49\u001b[0m | \u001b[1mINFO    \u001b[0m | \u001b[36mrag_to_riches.search.semantic_search\u001b[0m:\u001b[36msearch_with_text\u001b[0m:\u001b[36m347\u001b[0m - \u001b[1mText search for 'loyal companions and friendship...' returned 4 results\u001b[0m\n",
      "\u001b[32m2025-06-28 12:44:49\u001b[0m | \u001b[1mINFO    \u001b[0m | \u001b[36mrag_to_riches.corpus.animals\u001b[0m:\u001b[36msearch\u001b[0m:\u001b[36m426\u001b[0m - \u001b[1mAnimal quotes search for 'loyal companions and friendship...' returned 4 results\u001b[0m\n"
     ]
    },
    {
     "name": "stdout",
     "output_type": "stream",
     "text": [
      "🎯 EXAMPLE 1: Basic Semantic Search\n",
      "==================================================\n",
      "Query: 'loyal companions and friendship'\n",
      "🔍 This should find quotes about loyalty, friendship, and companionship\n",
      "   even if they don't contain these exact words!\n",
      "\n",
      "🔍 Basic Semantic Search Results\n",
      "===============================\n",
      "   📊 Found 4 results\n",
      "\n",
      "   1. 📊 Score: 0.476\n",
      "      💬 Quote: \"If you want loyalty, get a dog. If you want loyalty and attention, get a smart dog.\"\n",
      "      ✍️  Author: Grant Fairley\n",
      "      🏷️  Category: Animal Morality\n",
      "\n",
      "   2. 📊 Score: 0.428\n",
      "      💬 Quote: \"Animals are reliable, many full of love, true in their affections, predictable in their actions, grateful and loyal. ...\"\n",
      "      ✍️  Author: Alfred A. Montapert\n",
      "      🏷️  Category: Reflections and Lessons\n",
      "\n",
      "   3. 📊 Score: 0.368\n",
      "      💬 Quote: \"Animals share with us the privilege of having a soul.\"\n",
      "      ✍️  Author: Pythagoras\n",
      "      🏷️  Category: Literary and Poetic Imagery\n",
      "\n",
      "   4. 📊 Score: 0.359\n",
      "      💬 Quote: \"Animals are such agreeable friends—they ask no questions; they pass no criticisms.\"\n",
      "      ✍️  Author: George Eliot\n",
      "      🏷️  Category: Famous Literary Passages\n",
      "\n"
     ]
    }
   ],
   "source": [
    "# Example 1: Basic Semantic Search - The Power of Meaning\n",
    "print(\"🎯 EXAMPLE 1: Basic Semantic Search\")\n",
    "print(\"=\" * 50)\n",
    "print(\"Query: 'loyal companions and friendship'\")\n",
    "print(\"🔍 This should find quotes about loyalty, friendship, and companionship\")\n",
    "print(\"   even if they don't contain these exact words!\")\n",
    "\n",
    "results = animals_loader.search(\"loyal companions and friendship\", limit=4)\n",
    "display_search_results(results, \"Basic Semantic Search Results\")\n"
   ]
  },
  {
   "cell_type": "code",
   "execution_count": 10,
   "metadata": {},
   "outputs": [
    {
     "name": "stderr",
     "output_type": "stream",
     "text": [
      "\u001b[32m2025-06-28 12:44:49\u001b[0m | \u001b[1mINFO    \u001b[0m | \u001b[36mrag_to_riches.vectordb.embedded_vectordb\u001b[0m:\u001b[36msearch_points\u001b[0m:\u001b[36m413\u001b[0m - \u001b[1mFound 4 points in collection 'animals'\u001b[0m\n",
      "\u001b[32m2025-06-28 12:44:49\u001b[0m | \u001b[1mINFO    \u001b[0m | \u001b[36mrag_to_riches.search.semantic_search\u001b[0m:\u001b[36msearch_with_text\u001b[0m:\u001b[36m347\u001b[0m - \u001b[1mText search for 'wisdom and life lessons...' returned 4 results\u001b[0m\n",
      "\u001b[32m2025-06-28 12:44:49\u001b[0m | \u001b[1mINFO    \u001b[0m | \u001b[36mrag_to_riches.corpus.animals\u001b[0m:\u001b[36msearch\u001b[0m:\u001b[36m426\u001b[0m - \u001b[1mAnimal quotes search for 'wisdom and life lessons...' returned 4 results\u001b[0m\n"
     ]
    },
    {
     "name": "stdout",
     "output_type": "stream",
     "text": [
      "🎯 EXAMPLE 2: Concept-Based Search\n",
      "==================================================\n",
      "Query: 'wisdom and life lessons'\n",
      "🔍 Searching for philosophical insights and wisdom\n",
      "   Notice how we find deep concepts, not just keyword matches!\n",
      "\n",
      "🔍 Concept-Based Search Results\n",
      "==============================\n",
      "   📊 Found 4 results\n",
      "\n",
      "   1. 📊 Score: 0.297\n",
      "      💬 Quote: \"Animals share with us the privilege of having a soul.\"\n",
      "      ✍️  Author: Pythagoras\n",
      "      🏷️  Category: Literary and Poetic Imagery\n",
      "\n",
      "   2. 📊 Score: 0.296\n",
      "      💬 Quote: \"To my mind, the life of a lamb is no less precious than that of a human being.\"\n",
      "      ✍️  Author: Mahatma Gandhi\n",
      "      🏷️  Category: Literary Masterpieces\n",
      "\n",
      "   3. 📊 Score: 0.293\n",
      "      💬 Quote: \"Hold fast to dreams, for if dreams die, life is a broken-winged bird that cannot fly.\"\n",
      "      ✍️  Author: Langston Hughes\n",
      "      🏷️  Category: Symbolism and Allegory\n",
      "\n",
      "   4. 📊 Score: 0.288\n",
      "      💬 Quote: \"Dogs teach us a very important lesson in life: The mailman is not to be trusted.\"\n",
      "      ✍️  Author: Sian Ford\n",
      "      🏷️  Category: Literary Masterpieces\n",
      "\n"
     ]
    }
   ],
   "source": [
    "# Example 2: Concept-Based Search - Abstract Ideas\n",
    "print(\"🎯 EXAMPLE 2: Concept-Based Search\")\n",
    "print(\"=\" * 50)\n",
    "print(\"Query: 'wisdom and life lessons'\")\n",
    "print(\"🔍 Searching for philosophical insights and wisdom\")\n",
    "print(\"   Notice how we find deep concepts, not just keyword matches!\")\n",
    "\n",
    "results = animals_loader.search(\"wisdom and life lessons\", limit=4)\n",
    "display_search_results(results, \"Concept-Based Search Results\")\n"
   ]
  },
  {
   "cell_type": "code",
   "execution_count": 11,
   "metadata": {},
   "outputs": [
    {
     "name": "stderr",
     "output_type": "stream",
     "text": [
      "\u001b[32m2025-06-28 12:44:49\u001b[0m | \u001b[1mINFO    \u001b[0m | \u001b[36mrag_to_riches.vectordb.embedded_vectordb\u001b[0m:\u001b[36msearch_points\u001b[0m:\u001b[36m413\u001b[0m - \u001b[1mFound 4 points in collection 'animals'\u001b[0m\n",
      "\u001b[32m2025-06-28 12:44:49\u001b[0m | \u001b[1mINFO    \u001b[0m | \u001b[36mrag_to_riches.search.semantic_search\u001b[0m:\u001b[36msearch_with_text\u001b[0m:\u001b[36m347\u001b[0m - \u001b[1mText search for 'sadness and loss...' returned 4 results\u001b[0m\n",
      "\u001b[32m2025-06-28 12:44:49\u001b[0m | \u001b[1mINFO    \u001b[0m | \u001b[36mrag_to_riches.corpus.animals\u001b[0m:\u001b[36msearch\u001b[0m:\u001b[36m426\u001b[0m - \u001b[1mAnimal quotes search for 'sadness and loss...' returned 4 results\u001b[0m\n"
     ]
    },
    {
     "name": "stdout",
     "output_type": "stream",
     "text": [
      "🎯 EXAMPLE 3: Emotional Search\n",
      "==================================================\n",
      "Query: 'sadness and loss'\n",
      "🔍 Searching for quotes that deal with sad emotions\n",
      "   Semantic search can understand emotional concepts!\n",
      "\n",
      "🔍 Emotional Search Results\n",
      "==========================\n",
      "   📊 Found 4 results\n",
      "\n",
      "   1. 📊 Score: 0.472\n",
      "      💬 Quote: \"There are two means of refuge from the misery of life—music and cats.\"\n",
      "      ✍️  Author: Albert Schweitzer\n",
      "      🏷️  Category: Powerful Analogies\n",
      "\n",
      "   2. 📊 Score: 0.462\n",
      "      💬 Quote: \"Like a bird singing in the rain, let grateful memories survive in time of sorrow.\"\n",
      "      ✍️  Author: Robert Louis Stevenson\n",
      "      🏷️  Category: Symbolism and Allegory\n",
      "\n",
      "   3. 📊 Score: 0.342\n",
      "      💬 Quote: \"Until one has loved an animal, a part of one's soul remains unawakened.\"\n",
      "      ✍️  Author: Anatole France\n",
      "      🏷️  Category: Wisdom and Philosophy\n",
      "\n",
      "   4. 📊 Score: 0.342\n",
      "      💬 Quote: \"Until one has loved an animal, a part of one's soul remains unawakened.\"\n",
      "      ✍️  Author: Anatole France\n",
      "      🏷️  Category: Famous Literary Passages\n",
      "\n"
     ]
    }
   ],
   "source": [
    "# Example 3: Emotional Search - Finding Feelings\n",
    "print(\"🎯 EXAMPLE 3: Emotional Search\")\n",
    "print(\"=\" * 50)\n",
    "print(\"Query: 'sadness and loss'\")\n",
    "print(\"🔍 Searching for quotes that deal with sad emotions\")\n",
    "print(\"   Semantic search can understand emotional concepts!\")\n",
    "\n",
    "results = animals_loader.search(\"sadness and loss\", limit=4)\n",
    "display_search_results(results, \"Emotional Search Results\")\n"
   ]
  },
  {
   "cell_type": "code",
   "execution_count": 12,
   "metadata": {},
   "outputs": [
    {
     "name": "stderr",
     "output_type": "stream",
     "text": [
      "\u001b[32m2025-06-28 12:44:49\u001b[0m | \u001b[1mINFO    \u001b[0m | \u001b[36mrag_to_riches.vectordb.embedded_vectordb\u001b[0m:\u001b[36msearch_points\u001b[0m:\u001b[36m413\u001b[0m - \u001b[1mFound 12 points in collection 'animals'\u001b[0m\n",
      "\u001b[32m2025-06-28 12:44:49\u001b[0m | \u001b[1mINFO    \u001b[0m | \u001b[36mrag_to_riches.search.semantic_search\u001b[0m:\u001b[36msearch_with_text\u001b[0m:\u001b[36m347\u001b[0m - \u001b[1mText search for 'animals...' returned 12 results\u001b[0m\n",
      "\u001b[32m2025-06-28 12:44:49\u001b[0m | \u001b[1mINFO    \u001b[0m | \u001b[36mrag_to_riches.corpus.animals\u001b[0m:\u001b[36msearch\u001b[0m:\u001b[36m426\u001b[0m - \u001b[1mAnimal quotes search for 'animals...' returned 1 results (filtered by author)\u001b[0m\n",
      "\u001b[32m2025-06-28 12:44:49\u001b[0m | \u001b[1mINFO    \u001b[0m | \u001b[36mrag_to_riches.vectordb.embedded_vectordb\u001b[0m:\u001b[36msearch_points\u001b[0m:\u001b[36m413\u001b[0m - \u001b[1mFound 9 points in collection 'animals'\u001b[0m\n",
      "\u001b[32m2025-06-28 12:44:49\u001b[0m | \u001b[1mINFO    \u001b[0m | \u001b[36mrag_to_riches.search.semantic_search\u001b[0m:\u001b[36msearch_with_text\u001b[0m:\u001b[36m347\u001b[0m - \u001b[1mText search for 'animals...' returned 9 results\u001b[0m\n",
      "\u001b[32m2025-06-28 12:44:49\u001b[0m | \u001b[1mINFO    \u001b[0m | \u001b[36mrag_to_riches.corpus.animals\u001b[0m:\u001b[36msearch\u001b[0m:\u001b[36m426\u001b[0m - \u001b[1mAnimal quotes search for 'animals...' returned 0 results (filtered by author)\u001b[0m\n"
     ]
    },
    {
     "name": "stdout",
     "output_type": "stream",
     "text": [
      "🎯 EXAMPLE 4: Author-Filtered Search\n",
      "==================================================\n",
      "Query: 'animals' filtered by author: 'Mark Twain'\n",
      "🔍 This combines semantic search with metadata filtering\n",
      "   We're looking for Mark Twain's thoughts on animals specifically\n",
      "\n",
      "🔍 Author-Filtered Search Results\n",
      "================================\n",
      "   📊 Found 1 results\n",
      "\n",
      "   1. 📊 Score: 0.459\n",
      "      💬 Quote: \"If animals could speak, the dog would be a blundering outspoken fellow; but the cat would have the rare grace of neve...\"\n",
      "      ✍️  Author: Mark Twain\n",
      "      🏷️  Category: Literary and Poetic Imagery\n",
      "\n",
      "\n",
      "🎯 BONUS: Same query, different author\n",
      "Query: 'animals' filtered by author: 'Albert Schweitzer'\n",
      "\n",
      "🔍 Albert Schweitzer's Animal Quotes\n",
      "===================================\n",
      "   ❌ No results found.\n"
     ]
    }
   ],
   "source": [
    "# Example 4: Filtered Search - Author-Specific\n",
    "print(\"🎯 EXAMPLE 4: Author-Filtered Search\")\n",
    "print(\"=\" * 50)\n",
    "print(\"Query: 'animals' filtered by author: 'Mark Twain'\")\n",
    "print(\"🔍 This combines semantic search with metadata filtering\")\n",
    "print(\"   We're looking for Mark Twain's thoughts on animals specifically\")\n",
    "\n",
    "results = animals_loader.search(\"animals\", limit=4, author=\"Mark Twain\")\n",
    "display_search_results(results, \"Author-Filtered Search Results\")\n",
    "\n",
    "# Let's also try a different author\n",
    "print(\"\\n\" + \"🎯 BONUS: Same query, different author\")\n",
    "print(\"Query: 'animals' filtered by author: 'Albert Schweitzer'\")\n",
    "\n",
    "results = animals_loader.search(\"animals\", limit=3, author=\"Albert Schweitzer\")\n",
    "display_search_results(results, \"Albert Schweitzer's Animal Quotes\")\n"
   ]
  },
  {
   "cell_type": "code",
   "execution_count": 13,
   "metadata": {},
   "outputs": [
    {
     "name": "stderr",
     "output_type": "stream",
     "text": [
      "\u001b[32m2025-06-28 12:44:49\u001b[0m | \u001b[1mINFO    \u001b[0m | \u001b[36mrag_to_riches.vectordb.embedded_vectordb\u001b[0m:\u001b[36msearch_points\u001b[0m:\u001b[36m413\u001b[0m - \u001b[1mFound 12 points in collection 'animals'\u001b[0m\n",
      "\u001b[32m2025-06-28 12:44:49\u001b[0m | \u001b[1mINFO    \u001b[0m | \u001b[36mrag_to_riches.search.semantic_search\u001b[0m:\u001b[36msearch_with_text\u001b[0m:\u001b[36m347\u001b[0m - \u001b[1mText search for 'love and compassion...' returned 12 results\u001b[0m\n",
      "\u001b[32m2025-06-28 12:44:49\u001b[0m | \u001b[1mINFO    \u001b[0m | \u001b[36mrag_to_riches.corpus.animals\u001b[0m:\u001b[36msearch\u001b[0m:\u001b[36m426\u001b[0m - \u001b[1mAnimal quotes search for 'love and compassion...' returned 1 results (filtered by category)\u001b[0m\n",
      "\u001b[32m2025-06-28 12:44:49\u001b[0m | \u001b[1mINFO    \u001b[0m | \u001b[36mrag_to_riches.vectordb.embedded_vectordb\u001b[0m:\u001b[36mcount_points\u001b[0m:\u001b[36m105\u001b[0m - \u001b[1mCollection 'animals' contains 100 points\u001b[0m\n"
     ]
    },
    {
     "name": "stdout",
     "output_type": "stream",
     "text": [
      "🎯 EXAMPLE 5: Category-Filtered Search\n",
      "==================================================\n",
      "Query: 'love and compassion' in category: 'Wisdom and Philosophy'\n",
      "🔍 Finding philosophical quotes about love and compassion\n",
      "\n",
      "🔍 Philosophy Category Search Results\n",
      "====================================\n",
      "   📊 Found 1 results\n",
      "\n",
      "   1. 📊 Score: 0.398\n",
      "      💬 Quote: \"Until one has loved an animal, a part of one's soul remains unawakened.\"\n",
      "      ✍️  Author: Anatole France\n",
      "      🏷️  Category: Wisdom and Philosophy\n",
      "\n",
      "\n",
      "📚 Available categories in our corpus:\n",
      "    1. Animal Morality\n",
      "    2. Animals as Reflections\n",
      "    3. Animals in Narrative\n",
      "    4. Evocative Descriptions\n",
      "    5. Famous Literary Passages\n",
      "    6. Humorous Quotes\n",
      "    7. Humorous Yet Profound\n",
      "    8. Insightful Observations\n",
      "    9. Literary Classics\n",
      "   10. Literary Masterpieces\n",
      "   ... and 10 more\n"
     ]
    }
   ],
   "source": [
    "# Example 5: Category-Filtered Search\n",
    "print(\"🎯 EXAMPLE 5: Category-Filtered Search\")\n",
    "print(\"=\" * 50)\n",
    "print(\"Query: 'love and compassion' in category: 'Wisdom and Philosophy'\")\n",
    "print(\"🔍 Finding philosophical quotes about love and compassion\")\n",
    "\n",
    "results = animals_loader.search(\"love and compassion\", limit=4, category=\"Wisdom and Philosophy\")\n",
    "display_search_results(results, \"Philosophy Category Search Results\")\n",
    "\n",
    "# Let's see what categories we have available\n",
    "print(f\"\\n📚 Available categories in our corpus:\")\n",
    "all_categories = animals_loader.get_collection_stats()['categories']\n",
    "for i, category in enumerate(sorted(all_categories), 1):\n",
    "    print(f\"   {i:2d}. {category}\")\n",
    "    if i >= 10:  # Show first 10 categories\n",
    "        print(f\"   ... and {len(all_categories) - 10} more\")\n",
    "        break\n"
   ]
  },
  {
   "cell_type": "code",
   "execution_count": 14,
   "metadata": {},
   "outputs": [
    {
     "name": "stderr",
     "output_type": "stream",
     "text": [
      "\u001b[32m2025-06-28 12:44:49\u001b[0m | \u001b[1mINFO    \u001b[0m | \u001b[36mrag_to_riches.vectordb.embedded_vectordb\u001b[0m:\u001b[36msearch_points\u001b[0m:\u001b[36m413\u001b[0m - \u001b[1mFound 0 points in collection 'animals'\u001b[0m\n",
      "\u001b[32m2025-06-28 12:44:49\u001b[0m | \u001b[1mINFO    \u001b[0m | \u001b[36mrag_to_riches.search.semantic_search\u001b[0m:\u001b[36msearch_with_text\u001b[0m:\u001b[36m347\u001b[0m - \u001b[1mText search for 'faithful dogs...' returned 0 results\u001b[0m\n",
      "\u001b[32m2025-06-28 12:44:49\u001b[0m | \u001b[1mINFO    \u001b[0m | \u001b[36mrag_to_riches.corpus.animals\u001b[0m:\u001b[36msearch\u001b[0m:\u001b[36m426\u001b[0m - \u001b[1mAnimal quotes search for 'faithful dogs...' returned 0 results\u001b[0m\n",
      "\u001b[32m2025-06-28 12:44:49\u001b[0m | \u001b[1mINFO    \u001b[0m | \u001b[36mrag_to_riches.vectordb.embedded_vectordb\u001b[0m:\u001b[36msearch_points\u001b[0m:\u001b[36m413\u001b[0m - \u001b[1mFound 5 points in collection 'animals'\u001b[0m\n",
      "\u001b[32m2025-06-28 12:44:49\u001b[0m | \u001b[1mINFO    \u001b[0m | \u001b[36mrag_to_riches.search.semantic_search\u001b[0m:\u001b[36msearch_with_text\u001b[0m:\u001b[36m347\u001b[0m - \u001b[1mText search for 'faithful dogs...' returned 5 results\u001b[0m\n",
      "\u001b[32m2025-06-28 12:44:49\u001b[0m | \u001b[1mINFO    \u001b[0m | \u001b[36mrag_to_riches.corpus.animals\u001b[0m:\u001b[36msearch\u001b[0m:\u001b[36m426\u001b[0m - \u001b[1mAnimal quotes search for 'faithful dogs...' returned 5 results\u001b[0m\n"
     ]
    },
    {
     "name": "stdout",
     "output_type": "stream",
     "text": [
      "🎯 EXAMPLE 6: High-Confidence Search\n",
      "==================================================\n",
      "Query: 'faithful dogs' with score threshold > 0.6\n",
      "🔍 Only returning results with high semantic similarity\n",
      "   This filters out loosely related results\n",
      "\n",
      "🔍 High-Confidence Search Results\n",
      "================================\n",
      "   ❌ No results found.\n",
      "\n",
      "🔄 COMPARISON: Same query without score threshold\n",
      "\n",
      "🔍 All Results (No Threshold)\n",
      "============================\n",
      "   📊 Found 5 results\n",
      "\n",
      "   1. 📊 Score: 0.513\n",
      "      💬 Quote: \"Dogs are our link to paradise.\"\n",
      "      ✍️  Author: Milan Kundera\n",
      "      🏷️  Category: Proverbs and Sayings\n",
      "\n",
      "   2. 📊 Score: 0.502\n",
      "      💬 Quote: \"Every dog has his day.\"\n",
      "      ✍️  Author: Jonathan Swift\n",
      "      🏷️  Category: Symbolism and Allegory\n",
      "\n",
      "   3. 📊 Score: 0.492\n",
      "      💬 Quote: \"Animals are reliable, many full of love, true in their affections, predictable in their actions, grateful and loyal. ...\"\n",
      "      ✍️  Author: Alfred A. Montapert\n",
      "      🏷️  Category: Reflections and Lessons\n",
      "\n",
      "   4. 📊 Score: 0.480\n",
      "      💬 Quote: \"I wonder if other dogs think poodles are members of a weird religious cult.\"\n",
      "      ✍️  Author: Rita Rudner\n",
      "      🏷️  Category: Humorous Quotes\n",
      "\n",
      "   5. 📊 Score: 0.475\n",
      "      💬 Quote: \"Dogs have boundless enthusiasm but no sense of shame. I should have a dog as a life coach.\"\n",
      "      ✍️  Author: Moby\n",
      "      🏷️  Category: Animal Morality\n",
      "\n",
      "\n",
      "📊 Insight: Threshold filtering removed 5 lower-quality results\n"
     ]
    }
   ],
   "source": [
    "# Example 6: High-Confidence Search with Score Threshold\n",
    "print(\"🎯 EXAMPLE 6: High-Confidence Search\")\n",
    "print(\"=\" * 50)\n",
    "print(\"Query: 'faithful dogs' with score threshold > 0.6\")\n",
    "print(\"🔍 Only returning results with high semantic similarity\")\n",
    "print(\"   This filters out loosely related results\")\n",
    "\n",
    "results = animals_loader.search(\"faithful dogs\", limit=5, score_threshold=0.6)\n",
    "display_search_results(results, \"High-Confidence Search Results\")\n",
    "\n",
    "# Compare with no threshold\n",
    "print(\"\\n🔄 COMPARISON: Same query without score threshold\")\n",
    "results_all = animals_loader.search(\"faithful dogs\", limit=5)\n",
    "display_search_results(results_all, \"All Results (No Threshold)\")\n",
    "\n",
    "print(f\"\\n📊 Insight: Threshold filtering removed {len(results_all) - len(results)} lower-quality results\")\n"
   ]
  },
  {
   "cell_type": "code",
   "execution_count": 15,
   "metadata": {},
   "outputs": [
    {
     "name": "stderr",
     "output_type": "stream",
     "text": [
      "\u001b[32m2025-06-28 12:44:49\u001b[0m | \u001b[1mINFO    \u001b[0m | \u001b[36mrag_to_riches.vectordb.embedded_vectordb\u001b[0m:\u001b[36msearch_points\u001b[0m:\u001b[36m413\u001b[0m - \u001b[1mFound 3 points in collection 'animals'\u001b[0m\n",
      "\u001b[32m2025-06-28 12:44:49\u001b[0m | \u001b[1mINFO    \u001b[0m | \u001b[36mrag_to_riches.search.semantic_search\u001b[0m:\u001b[36msearch_with_text\u001b[0m:\u001b[36m347\u001b[0m - \u001b[1mText search for 'creatures that bring joy and happiness...' returned 3 results\u001b[0m\n",
      "\u001b[32m2025-06-28 12:44:49\u001b[0m | \u001b[1mINFO    \u001b[0m | \u001b[36mrag_to_riches.corpus.animals\u001b[0m:\u001b[36msearch\u001b[0m:\u001b[36m426\u001b[0m - \u001b[1mAnimal quotes search for 'creatures that bring joy and happiness...' returned 3 results\u001b[0m\n"
     ]
    },
    {
     "name": "stdout",
     "output_type": "stream",
     "text": [
      "🎯 EXAMPLE 7: Semantic vs Keyword Search Comparison\n",
      "=======================================================\n",
      "🔍 Let's compare semantic search with what keyword search would find\n",
      "\n",
      "Query: 'creatures that bring joy and happiness'\n",
      "🧠 SEMANTIC SEARCH: Finds quotes about the CONCEPT of joy from animals\n",
      "\n",
      "🔍 Semantic Search Results\n",
      "=========================\n",
      "   📊 Found 3 results\n",
      "\n",
      "   1. 📊 Score: 0.505\n",
      "      💬 Quote: \"Whoever said you can’t buy happiness forgot little puppies.\"\n",
      "      ✍️  Author: Gene Hill\n",
      "      🏷️  Category: Animals as Reflections\n",
      "\n",
      "   2. 📊 Score: 0.498\n",
      "      💬 Quote: \"The only creatures that are evolved enough to convey pure love are dogs and infants.\"\n",
      "      ✍️  Author: Johnny Depp\n",
      "      🏷️  Category: Proverbs and Sayings\n",
      "\n",
      "   3. 📊 Score: 0.468\n",
      "      💬 Quote: \"Animals share with us the privilege of having a soul.\"\n",
      "      ✍️  Author: Pythagoras\n",
      "      🏷️  Category: Literary and Poetic Imagery\n",
      "\n",
      "\n",
      "🔑 KEYWORD SEARCH would look for:\n",
      "   - Documents containing 'creatures' AND 'joy' AND 'happiness'\n",
      "   - Would miss quotes about 'pets', 'animals', 'delight', 'bliss', etc.\n",
      "   - Would miss conceptually related but differently worded content\n",
      "\n",
      "💡 SEMANTIC ADVANTAGE:\n",
      "   ✅ Understands synonyms and related concepts\n",
      "   ✅ Captures intent, not just keywords\n",
      "   ✅ Finds relevant content with different vocabulary\n",
      "   ✅ More natural, human-like understanding\n"
     ]
    }
   ],
   "source": [
    "# Example 7: Demonstrating Semantic vs Keyword Search\n",
    "print(\"🎯 EXAMPLE 7: Semantic vs Keyword Search Comparison\")\n",
    "print(\"=\" * 55)\n",
    "print(\"🔍 Let's compare semantic search with what keyword search would find\")\n",
    "\n",
    "# Semantic search for concepts\n",
    "query = \"creatures that bring joy and happiness\"\n",
    "print(f\"\\nQuery: '{query}'\")\n",
    "print(\"🧠 SEMANTIC SEARCH: Finds quotes about the CONCEPT of joy from animals\")\n",
    "\n",
    "semantic_results = animals_loader.search(query, limit=3)\n",
    "display_search_results(semantic_results, \"Semantic Search Results\")\n",
    "\n",
    "# Simulate what keyword search might miss\n",
    "print(\"\\n🔑 KEYWORD SEARCH would look for:\")\n",
    "print(\"   - Documents containing 'creatures' AND 'joy' AND 'happiness'\")\n",
    "print(\"   - Would miss quotes about 'pets', 'animals', 'delight', 'bliss', etc.\")\n",
    "print(\"   - Would miss conceptually related but differently worded content\")\n",
    "\n",
    "print(\"\\n💡 SEMANTIC ADVANTAGE:\")\n",
    "print(\"   ✅ Understands synonyms and related concepts\")\n",
    "print(\"   ✅ Captures intent, not just keywords\") \n",
    "print(\"   ✅ Finds relevant content with different vocabulary\")\n",
    "print(\"   ✅ More natural, human-like understanding\")\n"
   ]
  },
  {
   "cell_type": "code",
   "execution_count": 16,
   "metadata": {},
   "outputs": [
    {
     "name": "stderr",
     "output_type": "stream",
     "text": [
      "\u001b[32m2025-06-28 12:44:49\u001b[0m | \u001b[1mINFO    \u001b[0m | \u001b[36mrag_to_riches.vectordb.embedded_vectordb\u001b[0m:\u001b[36mget_collection_info\u001b[0m:\u001b[36m295\u001b[0m - \u001b[1mRetrieved info for collection 'animals'\u001b[0m\n",
      "\u001b[32m2025-06-28 12:44:49\u001b[0m | \u001b[1mINFO    \u001b[0m | \u001b[36mrag_to_riches.search.semantic_search\u001b[0m:\u001b[36mconsistency_check\u001b[0m:\u001b[36m233\u001b[0m - \u001b[1mConsistency check passed for collection 'animals'\u001b[0m\n",
      "\u001b[32m2025-06-28 12:44:49\u001b[0m | \u001b[1mINFO    \u001b[0m | \u001b[36mrag_to_riches.vectordb.embedded_vectordb\u001b[0m:\u001b[36mupsert_points\u001b[0m:\u001b[36m450\u001b[0m - \u001b[1mUpserted 1 points to collection 'animals'\u001b[0m\n"
     ]
    },
    {
     "name": "stdout",
     "output_type": "stream",
     "text": [
      "🎯 BONUS: Enhanced Animals Class Features\n",
      "==================================================\n",
      "🔧 The Animals class now leverages SemanticSearch internally!\n",
      "\n",
      "1️⃣ Collection Consistency Check:\n",
      "   ✅ Collection parameters consistent with embedder: True\n",
      "\n",
      "2️⃣ Access to Underlying SemanticSearch:\n",
      "   🔍 SemanticSearch instance: SemanticSearch\n",
      "   📊 Embedder type: SimpleTextEmbedder\n",
      "   🗄️ Vector DB type: EmbeddedVectorDB\n",
      "\n",
      "3️⃣ Single Quote Indexing (New Feature):\n",
      "   ✅ Successfully indexed single quote with ID: 8117cdf3...\n",
      "\n",
      "💡 Benefits of the Refactoring:\n",
      "   🚀 Reduced code duplication by ~60 lines\n",
      "   🛠️ Better maintainability and consistency\n",
      "   🔧 Access to full SemanticSearch capabilities\n",
      "   ✨ Enhanced functionality while keeping the same API\n",
      "   🎯 Composition over duplication design pattern\n"
     ]
    }
   ],
   "source": [
    "# BONUS: Exploring the Enhanced Animals Class\n",
    "print(\"🎯 BONUS: Enhanced Animals Class Features\")\n",
    "print(\"=\" * 50)\n",
    "print(\"🔧 The Animals class now leverages SemanticSearch internally!\")\n",
    "\n",
    "# Show the new consistency check feature\n",
    "print(\"\\n1️⃣ Collection Consistency Check:\")\n",
    "is_consistent = animals_loader.consistency_check()\n",
    "print(f\"   ✅ Collection parameters consistent with embedder: {is_consistent}\")\n",
    "\n",
    "# Show access to the underlying semantic search engine\n",
    "print(\"\\n2️⃣ Access to Underlying SemanticSearch:\")\n",
    "print(f\"   🔍 SemanticSearch instance: {type(animals_loader.semantic_search).__name__}\")\n",
    "print(f\"   📊 Embedder type: {type(animals_loader.semantic_search.embedder).__name__}\")\n",
    "print(f\"   🗄️ Vector DB type: {type(animals_loader.semantic_search.vector_db).__name__}\")\n",
    "\n",
    "# Demonstrate single quote indexing\n",
    "print(\"\\n3️⃣ Single Quote Indexing (New Feature):\")\n",
    "sample_quote = AnimalQuote(\n",
    "    text=\"The greatness of a nation can be judged by the way its animals are treated.\",\n",
    "    author=\"Mahatma Gandhi\", \n",
    "    category=\"Wisdom and Philosophy\"\n",
    ")\n",
    "try:\n",
    "    point_id = animals_loader.index_single_quote(sample_quote)\n",
    "    print(f\"   ✅ Successfully indexed single quote with ID: {point_id[:8]}...\")\n",
    "except Exception as e:\n",
    "    print(f\"   ℹ️ Single quote indexing: {e}\")\n",
    "\n",
    "print(\"\\n💡 Benefits of the Refactoring:\")\n",
    "print(\"   🚀 Reduced code duplication by ~60 lines\")\n",
    "print(\"   🛠️ Better maintainability and consistency\")\n",
    "print(\"   🔧 Access to full SemanticSearch capabilities\")\n",
    "print(\"   ✨ Enhanced functionality while keeping the same API\")\n",
    "print(\"   🎯 Composition over duplication design pattern\")\n"
   ]
  },
  {
   "cell_type": "markdown",
   "metadata": {
    "vscode": {
     "languageId": "raw"
    }
   },
   "source": [
    "## 🎯 Key Takeaways {#takeaways}\n",
    "\n",
    "### 🔑 What We've Learned\n",
    "\n",
    "1. **Semantic Search Revolution**\n",
    "   - Goes beyond keyword matching to understand **meaning**\n",
    "   - Uses neural embeddings to capture semantic relationships\n",
    "   - Transforms how we find and discover information\n",
    "\n",
    "2. **Technical Implementation**\n",
    "   - **Embeddings**: Dense vectors that represent semantic meaning\n",
    "   - **Vector Database**: Efficient storage and similarity search\n",
    "   - **Pipeline**: Data → Validation → Embeddings → Indexing → Search\n",
    "   - **Architecture**: Composition pattern with SemanticSearch for code reuse\n",
    "\n",
    "3. **Practical Benefits**\n",
    "   - **Intent Understanding**: Finds what you mean, not just what you say\n",
    "   - **Language Flexibility**: Works with synonyms, paraphrases, concepts\n",
    "   - **Better Relevance**: 40-60% improvement over keyword search\n",
    "   - **Natural Queries**: Search like you think and speak\n",
    "\n",
    "4. **Real-World Applications**\n",
    "   - Document search and knowledge management\n",
    "   - E-commerce product discovery  \n",
    "   - Customer support and FAQ systems\n",
    "   - Research and academic databases\n",
    "\n",
    "### 🚀 Next Steps\n",
    "\n",
    "In future lessons, we'll explore:\n",
    "- **RAG (Retrieval-Augmented Generation)**: Combining search with LLMs\n",
    "- **Advanced Embeddings**: Domain-specific and multimodal models\n",
    "- **Vector Database Optimization**: Performance and scaling\n",
    "- **Evaluation Metrics**: Measuring search quality and relevance\n",
    "\n",
    "### 💡 Remember\n",
    "\n",
    "> **\"Semantic search doesn't just find documents that match your keywords—it finds documents that match your thoughts.\"**\n",
    "\n",
    "The power of semantic search lies in its ability to bridge the gap between human intent and information retrieval, making search more intuitive, effective, and intelligent.\n",
    "\n",
    "---\n",
    "\n",
    "**🎉 Congratulations!** You've completed Lesson 1 and now understand the fundamentals of semantic search. You're ready to build more sophisticated RAG applications!\n"
   ]
  }
 ],
 "metadata": {
  "kernelspec": {
   "display_name": ".venv",
   "language": "python",
   "name": "python3"
  },
  "language_info": {
   "codemirror_mode": {
    "name": "ipython",
    "version": 3
   },
   "file_extension": ".py",
   "mimetype": "text/x-python",
   "name": "python",
   "nbconvert_exporter": "python",
   "pygments_lexer": "ipython3",
   "version": "3.12.8"
  }
 },
 "nbformat": 4,
 "nbformat_minor": 2
}
