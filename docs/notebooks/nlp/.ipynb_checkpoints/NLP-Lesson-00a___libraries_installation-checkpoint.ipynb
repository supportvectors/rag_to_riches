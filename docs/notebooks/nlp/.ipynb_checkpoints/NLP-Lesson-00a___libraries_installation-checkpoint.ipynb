{
 "cells": [
  {
   "cell_type": "markdown",
   "id": "25c6604d",
   "metadata": {},
   "source": [
    "<center><img src=\"https://d4x5p7s4.rocketcdn.me/wp-content/uploads/2016/03/logo-poster-smaller.png\"/> </center>\n",
    "\n",
    "\n",
    "# Installation of the data science libraries\n",
    "\n",
    "In this exercise, we will ensure that our environment has all the necessary libraries installed. If you are not using the VM provided for the workshop, then download and install the latest version of `anaconda` python distribution onto your workstation (or the cloud VM instance that you are using).\n",
    "\n",
    "After that, pull the relevant git repository from the supportvectors github site 'data-wrangling-v2'. This current notebook belongs to that repository. Once you have fired up the `jupyter notebook` and navigated to the directory where you have cloned the repository, open the notebook `DW-Lesson-0__libraries_installation.ipynb`.\n",
    "\n",
    "## Steps\n",
    "\n",
    "**Caveat Emptor** Run the following cells only once on a given workstation; it is *not* necessary to run it everytime you start your jupyter environment. If you are using the SupportVectors VM, then it has already been done for you, so you can skip the below exercise altogether.\n",
    "\n",
    "### Step 0\n",
    "\n",
    "Mark this notebook as trusted, by clicking the `Not Trusted` button near the top-right of the notebook."
   ]
  },
  {
   "cell_type": "markdown",
   "id": "7fe76e08",
   "metadata": {},
   "source": [
    "### Step 1\n",
    "\n",
    "Mark the notebooks in the directory as trusted. This is essential, otherwise, you will have to re-execute the entire notebook to see all the plots, etc. sometimes."
   ]
  },
  {
   "cell_type": "code",
   "execution_count": 1,
   "id": "443109f3",
   "metadata": {
    "ExecuteTime": {
     "end_time": "2023-03-22T22:00:40.210695Z",
     "start_time": "2023-03-22T22:00:35.259695Z"
    }
   },
   "outputs": [
    {
     "name": "stdout",
     "output_type": "stream",
     "text": [
      "Marking as trusted: chunk_notebook.ipynb\n",
      "Signing notebook: chunk_notebook.ipynb\n",
      "Marking as trusted: emotions-dataset-analysis.ipynb\n",
      "Signing notebook: emotions-dataset-analysis.ipynb\n",
      "Marking as trusted: LLM-youtube_helper.ipynb\n",
      "Signing notebook: LLM-youtube_helper.ipynb\n",
      "Marking as trusted: NLP-Lesson-00a___libraries_installation.ipynb\n",
      "Notebook already signed: NLP-Lesson-00a___libraries_installation.ipynb\n",
      "Marking as trusted: NLP-Lesson-00b___visualization_libraries_installation.ipynb\n",
      "Signing notebook: NLP-Lesson-00b___visualization_libraries_installation.ipynb\n",
      "Marking as trusted: NLP-Lesson-00c___nlp_libraries_installation.ipynb\n",
      "Signing notebook: NLP-Lesson-00c___nlp_libraries_installation.ipynb\n",
      "Marking as trusted: NLP-Lesson-01___search-corpus.ipynb\n",
      "Signing notebook: NLP-Lesson-01___search-corpus.ipynb\n",
      "Marking as trusted: NLP-Lesson-01___semantic-search.ipynb\n",
      "Notebook already signed: NLP-Lesson-01___semantic-search.ipynb\n",
      "Marking as trusted: NLP-Lesson-02___huggingface_intro_with_sentiment.ipynb\n",
      "Signing notebook: NLP-Lesson-02___huggingface_intro_with_sentiment.ipynb\n",
      "Marking as trusted: NLP-Lesson-03___zero_shot_classifier-Copy1.ipynb\n",
      "Signing notebook: NLP-Lesson-03___zero_shot_classifier-Copy1.ipynb\n",
      "Marking as trusted: NLP-Lesson-03___zero_shot_classifier.ipynb\n",
      "Signing notebook: NLP-Lesson-03___zero_shot_classifier.ipynb\n",
      "Marking as trusted: NLP-Lesson-04___text_generation.ipynb\n",
      "Notebook already signed: NLP-Lesson-04___text_generation.ipynb\n",
      "Marking as trusted: NLP-Lesson-05___text_to_image.ipynb\n",
      "Signing notebook: NLP-Lesson-05___text_to_image.ipynb\n",
      "Marking as trusted: NLP-Lesson-06___ner.ipynb\n",
      "Signing notebook: NLP-Lesson-06___ner.ipynb\n",
      "Marking as trusted: NLP-Lesson-07___visual_qa.ipynb\n",
      "Signing notebook: NLP-Lesson-07___visual_qa.ipynb\n",
      "Marking as trusted: NLP-Lesson-08___pretrained.ipynb\n",
      "Signing notebook: NLP-Lesson-08___pretrained.ipynb\n",
      "Marking as trusted: NLP-Lesson-08___transfer_learning.ipynb\n",
      "Signing notebook: NLP-Lesson-08___transfer_learning.ipynb\n",
      "Marking as trusted: NLP-Lesson-09___autoclass.ipynb\n",
      "Signing notebook: NLP-Lesson-09___autoclass.ipynb\n",
      "Marking as trusted: NLP-Lesson-10___tokenizers.ipynb\n",
      "Signing notebook: NLP-Lesson-10___tokenizers.ipynb\n",
      "Marking as trusted: NLP-Lesson-11___datasets.ipynb\n",
      "Signing notebook: NLP-Lesson-11___datasets.ipynb\n",
      "Marking as trusted: NLP-Lesson-12___autoclassifier.ipynb\n",
      "Signing notebook: NLP-Lesson-12___autoclassifier.ipynb\n",
      "Marking as trusted: NLP-Lesson-13___carbon-emissions.ipynb\n",
      "Signing notebook: NLP-Lesson-13___carbon-emissions.ipynb\n",
      "Marking as trusted: NLP-Lesson-14___social-biases.ipynb\n",
      "Signing notebook: NLP-Lesson-14___social-biases.ipynb\n",
      "Marking as trusted: NLP-Lesson-15___fine-tuning.ipynb\n",
      "Signing notebook: NLP-Lesson-15___fine-tuning.ipynb\n",
      "Marking as trusted: NLP-Lesson-16___langchain_basics.ipynb\n",
      "Signing notebook: NLP-Lesson-16___langchain_basics.ipynb\n",
      "Marking as trusted: NLP-Lesson-17___langchain_prompts.ipynb\n",
      "Signing notebook: NLP-Lesson-17___langchain_prompts.ipynb\n",
      "Marking as trusted: NLP-Lesson-27___visualbert.ipynb\n",
      "Signing notebook: NLP-Lesson-27___visualbert.ipynb\n",
      "Marking as trusted: supportvectors-common.ipynb\n",
      "Signing notebook: supportvectors-common.ipynb\n",
      "Marking as trusted: Untitled.ipynb\n",
      "Signing notebook: Untitled.ipynb\n"
     ]
    }
   ],
   "source": [
    "! ./trust.sh"
   ]
  },
  {
   "cell_type": "markdown",
   "id": "1bfaa110",
   "metadata": {},
   "source": [
    "### Step 2\n",
    "\n",
    "Run the following cell to install the libraries we need for this workshop, and/or ensure that they are the latest versions."
   ]
  },
  {
   "cell_type": "code",
   "execution_count": 4,
   "id": "2089c2b6",
   "metadata": {
    "ExecuteTime": {
     "end_time": "2023-03-22T22:00:48.030357Z",
     "start_time": "2023-03-22T22:00:40.211696Z"
    },
    "scrolled": false
   },
   "outputs": [
    {
     "name": "stdout",
     "output_type": "stream",
     "text": [
      "Requirement already satisfied: numpy in /home/asif/anaconda3/lib/python3.11/site-packages (from -r requirements.txt (line 1)) (1.26.4)\n",
      "Requirement already satisfied: scipy in /home/asif/.local/lib/python3.11/site-packages (from -r requirements.txt (line 2)) (1.12.0)\n",
      "Requirement already satisfied: pandas in /home/asif/.local/lib/python3.11/site-packages (from -r requirements.txt (line 3)) (2.2.0)\n",
      "Requirement already satisfied: scikit-learn in /home/asif/.local/lib/python3.11/site-packages (from -r requirements.txt (line 4)) (1.4.0)\n",
      "Collecting scikit-learn (from -r requirements.txt (line 4))\n",
      "  Downloading scikit_learn-1.4.1.post1-cp311-cp311-manylinux_2_17_x86_64.manylinux2014_x86_64.whl.metadata (11 kB)\n",
      "Requirement already satisfied: matplotlib in /home/asif/.local/lib/python3.11/site-packages (from -r requirements.txt (line 5)) (3.8.2)\n",
      "Collecting matplotlib (from -r requirements.txt (line 5))\n",
      "  Downloading matplotlib-3.8.3-cp311-cp311-manylinux_2_17_x86_64.manylinux2014_x86_64.whl.metadata (5.8 kB)\n",
      "Requirement already satisfied: seaborn in /home/asif/.local/lib/python3.11/site-packages (from -r requirements.txt (line 6)) (0.13.2)\n",
      "Requirement already satisfied: altair in /home/asif/anaconda3/lib/python3.11/site-packages (from -r requirements.txt (line 7)) (5.2.0)\n",
      "Requirement already satisfied: plotly in /home/asif/.local/lib/python3.11/site-packages (from -r requirements.txt (line 8)) (5.18.0)\n",
      "Collecting plotly (from -r requirements.txt (line 8))\n",
      "  Downloading plotly-5.19.0-py3-none-any.whl.metadata (7.0 kB)\n",
      "Requirement already satisfied: pandas_bokeh in /home/asif/.local/lib/python3.11/site-packages (from -r requirements.txt (line 9)) (0.5.5)\n",
      "Requirement already satisfied: streamlit in /home/asif/.local/lib/python3.11/site-packages (from -r requirements.txt (line 10)) (1.31.0)\n",
      "Collecting streamlit (from -r requirements.txt (line 10))\n",
      "  Downloading streamlit-1.31.1-py2.py3-none-any.whl.metadata (8.1 kB)\n",
      "Requirement already satisfied: ipyplot in /home/asif/.local/lib/python3.11/site-packages (from -r requirements.txt (line 11)) (1.1.2)\n",
      "Requirement already satisfied: jupyter_contrib_nbextensions in /home/asif/.local/lib/python3.11/site-packages (from -r requirements.txt (line 12)) (0.7.0)\n",
      "Requirement already satisfied: python-dateutil>=2.8.2 in /home/asif/anaconda3/lib/python3.11/site-packages (from pandas->-r requirements.txt (line 3)) (2.8.2)\n",
      "Requirement already satisfied: pytz>=2020.1 in /home/asif/anaconda3/lib/python3.11/site-packages (from pandas->-r requirements.txt (line 3)) (2024.1)\n",
      "Requirement already satisfied: tzdata>=2022.7 in /home/asif/anaconda3/lib/python3.11/site-packages (from pandas->-r requirements.txt (line 3)) (2024.1)\n",
      "Requirement already satisfied: joblib>=1.2.0 in /home/asif/.local/lib/python3.11/site-packages (from scikit-learn->-r requirements.txt (line 4)) (1.3.2)\n",
      "Requirement already satisfied: threadpoolctl>=2.0.0 in /home/asif/anaconda3/lib/python3.11/site-packages (from scikit-learn->-r requirements.txt (line 4)) (2.2.0)\n",
      "Requirement already satisfied: contourpy>=1.0.1 in /home/asif/anaconda3/lib/python3.11/site-packages (from matplotlib->-r requirements.txt (line 5)) (1.0.5)\n",
      "Requirement already satisfied: cycler>=0.10 in /home/asif/anaconda3/lib/python3.11/site-packages (from matplotlib->-r requirements.txt (line 5)) (0.11.0)\n",
      "Requirement already satisfied: fonttools>=4.22.0 in /home/asif/anaconda3/lib/python3.11/site-packages (from matplotlib->-r requirements.txt (line 5)) (4.25.0)\n",
      "Requirement already satisfied: kiwisolver>=1.3.1 in /home/asif/anaconda3/lib/python3.11/site-packages (from matplotlib->-r requirements.txt (line 5)) (1.4.4)\n",
      "Requirement already satisfied: packaging>=20.0 in /home/asif/anaconda3/lib/python3.11/site-packages (from matplotlib->-r requirements.txt (line 5)) (23.2)\n",
      "Requirement already satisfied: pillow>=8 in /home/asif/anaconda3/lib/python3.11/site-packages (from matplotlib->-r requirements.txt (line 5)) (10.2.0)\n",
      "Requirement already satisfied: pyparsing>=2.3.1 in /home/asif/anaconda3/lib/python3.11/site-packages (from matplotlib->-r requirements.txt (line 5)) (3.0.9)\n",
      "Requirement already satisfied: jinja2 in /home/asif/anaconda3/lib/python3.11/site-packages (from altair->-r requirements.txt (line 7)) (3.1.2)\n",
      "Requirement already satisfied: jsonschema>=3.0 in /home/asif/anaconda3/lib/python3.11/site-packages (from altair->-r requirements.txt (line 7)) (4.17.3)\n",
      "Requirement already satisfied: toolz in /home/asif/anaconda3/lib/python3.11/site-packages (from altair->-r requirements.txt (line 7)) (0.12.0)\n",
      "Requirement already satisfied: tenacity>=6.2.0 in /home/asif/anaconda3/lib/python3.11/site-packages (from plotly->-r requirements.txt (line 8)) (8.2.3)\n",
      "Requirement already satisfied: bokeh>=2.0 in /home/asif/anaconda3/lib/python3.11/site-packages (from pandas_bokeh->-r requirements.txt (line 9)) (3.2.1)\n",
      "Requirement already satisfied: blinker<2,>=1.0.0 in /home/asif/.local/lib/python3.11/site-packages (from streamlit->-r requirements.txt (line 10)) (1.7.0)\n",
      "Requirement already satisfied: cachetools<6,>=4.0 in /home/asif/anaconda3/lib/python3.11/site-packages (from streamlit->-r requirements.txt (line 10)) (5.3.2)\n",
      "Requirement already satisfied: click<9,>=7.0 in /home/asif/anaconda3/lib/python3.11/site-packages (from streamlit->-r requirements.txt (line 10)) (8.1.7)\n",
      "Requirement already satisfied: importlib-metadata<8,>=1.4 in /home/asif/anaconda3/lib/python3.11/site-packages (from streamlit->-r requirements.txt (line 10)) (7.0.1)\n",
      "Requirement already satisfied: protobuf<5,>=3.20 in /home/asif/anaconda3/lib/python3.11/site-packages (from streamlit->-r requirements.txt (line 10)) (4.25.2)\n",
      "Requirement already satisfied: pyarrow>=7.0 in /home/asif/anaconda3/lib/python3.11/site-packages (from streamlit->-r requirements.txt (line 10)) (11.0.0)\n",
      "Requirement already satisfied: requests<3,>=2.27 in /home/asif/anaconda3/lib/python3.11/site-packages (from streamlit->-r requirements.txt (line 10)) (2.31.0)\n",
      "Requirement already satisfied: rich<14,>=10.14.0 in /home/asif/anaconda3/lib/python3.11/site-packages (from streamlit->-r requirements.txt (line 10)) (13.7.0)\n",
      "Requirement already satisfied: toml<2,>=0.10.1 in /home/asif/anaconda3/lib/python3.11/site-packages (from streamlit->-r requirements.txt (line 10)) (0.10.2)\n",
      "Requirement already satisfied: typing-extensions<5,>=4.3.0 in /home/asif/anaconda3/lib/python3.11/site-packages (from streamlit->-r requirements.txt (line 10)) (4.9.0)\n",
      "Requirement already satisfied: tzlocal<6,>=1.1 in /home/asif/.local/lib/python3.11/site-packages (from streamlit->-r requirements.txt (line 10)) (5.2)\n",
      "Requirement already satisfied: validators<1,>=0.2 in /home/asif/.local/lib/python3.11/site-packages (from streamlit->-r requirements.txt (line 10)) (0.22.0)\n",
      "Requirement already satisfied: gitpython!=3.1.19,<4,>=3.0.7 in /home/asif/.local/lib/python3.11/site-packages (from streamlit->-r requirements.txt (line 10)) (3.1.41)\n",
      "Requirement already satisfied: pydeck<1,>=0.8.0b4 in /home/asif/.local/lib/python3.11/site-packages (from streamlit->-r requirements.txt (line 10)) (0.8.1b0)\n",
      "Requirement already satisfied: tornado<7,>=6.0.3 in /home/asif/anaconda3/lib/python3.11/site-packages (from streamlit->-r requirements.txt (line 10)) (6.3.2)\n",
      "Requirement already satisfied: watchdog>=2.1.5 in /home/asif/anaconda3/lib/python3.11/site-packages (from streamlit->-r requirements.txt (line 10)) (2.1.6)\n",
      "Requirement already satisfied: IPython in /home/asif/anaconda3/lib/python3.11/site-packages (from ipyplot->-r requirements.txt (line 11)) (8.15.0)\n",
      "Requirement already satisfied: shortuuid in /home/asif/.local/lib/python3.11/site-packages (from ipyplot->-r requirements.txt (line 11)) (1.0.11)\n",
      "Requirement already satisfied: ipython-genutils in /home/asif/anaconda3/lib/python3.11/site-packages (from jupyter_contrib_nbextensions->-r requirements.txt (line 12)) (0.2.0)\n",
      "Requirement already satisfied: jupyter-contrib-core>=0.3.3 in /home/asif/.local/lib/python3.11/site-packages (from jupyter_contrib_nbextensions->-r requirements.txt (line 12)) (0.4.2)\n",
      "Requirement already satisfied: jupyter-core in /home/asif/anaconda3/lib/python3.11/site-packages (from jupyter_contrib_nbextensions->-r requirements.txt (line 12)) (5.3.0)\n",
      "Requirement already satisfied: jupyter-highlight-selected-word>=0.1.1 in /home/asif/.local/lib/python3.11/site-packages (from jupyter_contrib_nbextensions->-r requirements.txt (line 12)) (0.2.0)\n",
      "Requirement already satisfied: jupyter-nbextensions-configurator>=0.4.0 in /home/asif/.local/lib/python3.11/site-packages (from jupyter_contrib_nbextensions->-r requirements.txt (line 12)) (0.6.3)\n",
      "Requirement already satisfied: nbconvert>=6.0 in /home/asif/anaconda3/lib/python3.11/site-packages (from jupyter_contrib_nbextensions->-r requirements.txt (line 12)) (6.5.4)\n",
      "Requirement already satisfied: notebook>=6.0 in /home/asif/anaconda3/lib/python3.11/site-packages (from jupyter_contrib_nbextensions->-r requirements.txt (line 12)) (6.5.4)\n",
      "Requirement already satisfied: traitlets>=4.1 in /home/asif/anaconda3/lib/python3.11/site-packages (from jupyter_contrib_nbextensions->-r requirements.txt (line 12)) (5.7.1)\n",
      "Requirement already satisfied: lxml in /home/asif/anaconda3/lib/python3.11/site-packages (from jupyter_contrib_nbextensions->-r requirements.txt (line 12)) (4.9.3)\n"
     ]
    },
    {
     "name": "stdout",
     "output_type": "stream",
     "text": [
      "Requirement already satisfied: PyYAML>=3.10 in /home/asif/anaconda3/lib/python3.11/site-packages (from bokeh>=2.0->pandas_bokeh->-r requirements.txt (line 9)) (6.0)\n",
      "Requirement already satisfied: xyzservices>=2021.09.1 in /home/asif/anaconda3/lib/python3.11/site-packages (from bokeh>=2.0->pandas_bokeh->-r requirements.txt (line 9)) (2022.9.0)\n",
      "Requirement already satisfied: gitdb<5,>=4.0.1 in /home/asif/.local/lib/python3.11/site-packages (from gitpython!=3.1.19,<4,>=3.0.7->streamlit->-r requirements.txt (line 10)) (4.0.11)\n",
      "Requirement already satisfied: zipp>=0.5 in /home/asif/anaconda3/lib/python3.11/site-packages (from importlib-metadata<8,>=1.4->streamlit->-r requirements.txt (line 10)) (3.17.0)\n",
      "Requirement already satisfied: MarkupSafe>=2.0 in /home/asif/anaconda3/lib/python3.11/site-packages (from jinja2->altair->-r requirements.txt (line 7)) (2.1.1)\n",
      "Requirement already satisfied: attrs>=17.4.0 in /home/asif/anaconda3/lib/python3.11/site-packages (from jsonschema>=3.0->altair->-r requirements.txt (line 7)) (23.2.0)\n",
      "Requirement already satisfied: pyrsistent!=0.17.0,!=0.17.1,!=0.17.2,>=0.14.0 in /home/asif/anaconda3/lib/python3.11/site-packages (from jsonschema>=3.0->altair->-r requirements.txt (line 7)) (0.18.0)\n",
      "Requirement already satisfied: setuptools in /home/asif/anaconda3/lib/python3.11/site-packages (from jupyter-contrib-core>=0.3.3->jupyter_contrib_nbextensions->-r requirements.txt (line 12)) (68.0.0)\n",
      "Requirement already satisfied: beautifulsoup4 in /home/asif/anaconda3/lib/python3.11/site-packages (from nbconvert>=6.0->jupyter_contrib_nbextensions->-r requirements.txt (line 12)) (4.12.2)\n",
      "Requirement already satisfied: bleach in /home/asif/anaconda3/lib/python3.11/site-packages (from nbconvert>=6.0->jupyter_contrib_nbextensions->-r requirements.txt (line 12)) (4.1.0)\n",
      "Requirement already satisfied: defusedxml in /home/asif/anaconda3/lib/python3.11/site-packages (from nbconvert>=6.0->jupyter_contrib_nbextensions->-r requirements.txt (line 12)) (0.7.1)\n",
      "Requirement already satisfied: entrypoints>=0.2.2 in /home/asif/anaconda3/lib/python3.11/site-packages (from nbconvert>=6.0->jupyter_contrib_nbextensions->-r requirements.txt (line 12)) (0.4)\n",
      "Requirement already satisfied: jupyterlab-pygments in /home/asif/anaconda3/lib/python3.11/site-packages (from nbconvert>=6.0->jupyter_contrib_nbextensions->-r requirements.txt (line 12)) (0.1.2)\n",
      "Requirement already satisfied: mistune<2,>=0.8.1 in /home/asif/anaconda3/lib/python3.11/site-packages (from nbconvert>=6.0->jupyter_contrib_nbextensions->-r requirements.txt (line 12)) (0.8.4)\n",
      "Requirement already satisfied: nbclient>=0.5.0 in /home/asif/anaconda3/lib/python3.11/site-packages (from nbconvert>=6.0->jupyter_contrib_nbextensions->-r requirements.txt (line 12)) (0.5.13)\n",
      "Requirement already satisfied: nbformat>=5.1 in /home/asif/anaconda3/lib/python3.11/site-packages (from nbconvert>=6.0->jupyter_contrib_nbextensions->-r requirements.txt (line 12)) (5.9.2)\n",
      "Requirement already satisfied: pandocfilters>=1.4.1 in /home/asif/anaconda3/lib/python3.11/site-packages (from nbconvert>=6.0->jupyter_contrib_nbextensions->-r requirements.txt (line 12)) (1.5.0)\n",
      "Requirement already satisfied: pygments>=2.4.1 in /home/asif/anaconda3/lib/python3.11/site-packages (from nbconvert>=6.0->jupyter_contrib_nbextensions->-r requirements.txt (line 12)) (2.17.2)\n",
      "Requirement already satisfied: tinycss2 in /home/asif/anaconda3/lib/python3.11/site-packages (from nbconvert>=6.0->jupyter_contrib_nbextensions->-r requirements.txt (line 12)) (1.2.1)\n",
      "Requirement already satisfied: platformdirs>=2.5 in /home/asif/anaconda3/lib/python3.11/site-packages (from jupyter-core->jupyter_contrib_nbextensions->-r requirements.txt (line 12)) (3.10.0)\n",
      "Requirement already satisfied: pyzmq>=17 in /home/asif/anaconda3/lib/python3.11/site-packages (from notebook>=6.0->jupyter_contrib_nbextensions->-r requirements.txt (line 12)) (23.2.0)\n",
      "Requirement already satisfied: argon2-cffi in /home/asif/anaconda3/lib/python3.11/site-packages (from notebook>=6.0->jupyter_contrib_nbextensions->-r requirements.txt (line 12)) (21.3.0)\n",
      "Requirement already satisfied: jupyter-client>=5.3.4 in /home/asif/anaconda3/lib/python3.11/site-packages (from notebook>=6.0->jupyter_contrib_nbextensions->-r requirements.txt (line 12)) (7.4.9)\n",
      "Requirement already satisfied: nest-asyncio>=1.5 in /home/asif/anaconda3/lib/python3.11/site-packages (from notebook>=6.0->jupyter_contrib_nbextensions->-r requirements.txt (line 12)) (1.6.0)\n",
      "Requirement already satisfied: ipykernel in /home/asif/anaconda3/lib/python3.11/site-packages (from notebook>=6.0->jupyter_contrib_nbextensions->-r requirements.txt (line 12)) (6.25.0)\n",
      "Requirement already satisfied: Send2Trash>=1.8.0 in /home/asif/anaconda3/lib/python3.11/site-packages (from notebook>=6.0->jupyter_contrib_nbextensions->-r requirements.txt (line 12)) (1.8.0)\n",
      "Requirement already satisfied: terminado>=0.8.3 in /home/asif/anaconda3/lib/python3.11/site-packages (from notebook>=6.0->jupyter_contrib_nbextensions->-r requirements.txt (line 12)) (0.17.1)\n",
      "Requirement already satisfied: prometheus-client in /home/asif/anaconda3/lib/python3.11/site-packages (from notebook>=6.0->jupyter_contrib_nbextensions->-r requirements.txt (line 12)) (0.14.1)\n",
      "Requirement already satisfied: nbclassic>=0.4.7 in /home/asif/anaconda3/lib/python3.11/site-packages (from notebook>=6.0->jupyter_contrib_nbextensions->-r requirements.txt (line 12)) (0.5.5)\n",
      "Requirement already satisfied: six>=1.5 in /home/asif/anaconda3/lib/python3.11/site-packages (from python-dateutil>=2.8.2->pandas->-r requirements.txt (line 3)) (1.16.0)\n",
      "Requirement already satisfied: charset-normalizer<4,>=2 in /home/asif/anaconda3/lib/python3.11/site-packages (from requests<3,>=2.27->streamlit->-r requirements.txt (line 10)) (3.3.2)\n",
      "Requirement already satisfied: idna<4,>=2.5 in /home/asif/anaconda3/lib/python3.11/site-packages (from requests<3,>=2.27->streamlit->-r requirements.txt (line 10)) (3.6)\n",
      "Requirement already satisfied: urllib3<3,>=1.21.1 in /home/asif/anaconda3/lib/python3.11/site-packages (from requests<3,>=2.27->streamlit->-r requirements.txt (line 10)) (2.2.0)\n",
      "Requirement already satisfied: certifi>=2017.4.17 in /home/asif/anaconda3/lib/python3.11/site-packages (from requests<3,>=2.27->streamlit->-r requirements.txt (line 10)) (2024.2.2)\n",
      "Requirement already satisfied: markdown-it-py>=2.2.0 in /home/asif/anaconda3/lib/python3.11/site-packages (from rich<14,>=10.14.0->streamlit->-r requirements.txt (line 10)) (3.0.0)\n",
      "Requirement already satisfied: backcall in /home/asif/anaconda3/lib/python3.11/site-packages (from IPython->ipyplot->-r requirements.txt (line 11)) (0.2.0)\n",
      "Requirement already satisfied: decorator in /home/asif/anaconda3/lib/python3.11/site-packages (from IPython->ipyplot->-r requirements.txt (line 11)) (5.1.1)\n",
      "Requirement already satisfied: jedi>=0.16 in /home/asif/anaconda3/lib/python3.11/site-packages (from IPython->ipyplot->-r requirements.txt (line 11)) (0.18.1)\n",
      "Requirement already satisfied: matplotlib-inline in /home/asif/anaconda3/lib/python3.11/site-packages (from IPython->ipyplot->-r requirements.txt (line 11)) (0.1.6)\n",
      "Requirement already satisfied: pickleshare in /home/asif/anaconda3/lib/python3.11/site-packages (from IPython->ipyplot->-r requirements.txt (line 11)) (0.7.5)\n",
      "Requirement already satisfied: prompt-toolkit!=3.0.37,<3.1.0,>=3.0.30 in /home/asif/anaconda3/lib/python3.11/site-packages (from IPython->ipyplot->-r requirements.txt (line 11)) (3.0.43)\n",
      "Requirement already satisfied: stack-data in /home/asif/anaconda3/lib/python3.11/site-packages (from IPython->ipyplot->-r requirements.txt (line 11)) (0.2.0)\n",
      "Requirement already satisfied: pexpect>4.3 in /home/asif/anaconda3/lib/python3.11/site-packages (from IPython->ipyplot->-r requirements.txt (line 11)) (4.8.0)\n",
      "Requirement already satisfied: smmap<6,>=3.0.1 in /home/asif/.local/lib/python3.11/site-packages (from gitdb<5,>=4.0.1->gitpython!=3.1.19,<4,>=3.0.7->streamlit->-r requirements.txt (line 10)) (5.0.1)\n",
      "Requirement already satisfied: parso<0.9.0,>=0.8.0 in /home/asif/anaconda3/lib/python3.11/site-packages (from jedi>=0.16->IPython->ipyplot->-r requirements.txt (line 11)) (0.8.3)\n",
      "Requirement already satisfied: mdurl~=0.1 in /home/asif/anaconda3/lib/python3.11/site-packages (from markdown-it-py>=2.2.0->rich<14,>=10.14.0->streamlit->-r requirements.txt (line 10)) (0.1.2)\n",
      "Requirement already satisfied: jupyter-server>=1.8 in /home/asif/anaconda3/lib/python3.11/site-packages (from nbclassic>=0.4.7->notebook>=6.0->jupyter_contrib_nbextensions->-r requirements.txt (line 12)) (1.23.4)\n",
      "Requirement already satisfied: notebook-shim>=0.1.0 in /home/asif/anaconda3/lib/python3.11/site-packages (from nbclassic>=0.4.7->notebook>=6.0->jupyter_contrib_nbextensions->-r requirements.txt (line 12)) (0.2.2)\n",
      "Requirement already satisfied: fastjsonschema in /home/asif/anaconda3/lib/python3.11/site-packages (from nbformat>=5.1->nbconvert>=6.0->jupyter_contrib_nbextensions->-r requirements.txt (line 12)) (2.16.2)\n",
      "Requirement already satisfied: ptyprocess>=0.5 in /home/asif/anaconda3/lib/python3.11/site-packages (from pexpect>4.3->IPython->ipyplot->-r requirements.txt (line 11)) (0.7.0)\n"
     ]
    },
    {
     "name": "stdout",
     "output_type": "stream",
     "text": [
      "Requirement already satisfied: wcwidth in /home/asif/anaconda3/lib/python3.11/site-packages (from prompt-toolkit!=3.0.37,<3.1.0,>=3.0.30->IPython->ipyplot->-r requirements.txt (line 11)) (0.2.13)\n",
      "Requirement already satisfied: argon2-cffi-bindings in /home/asif/anaconda3/lib/python3.11/site-packages (from argon2-cffi->notebook>=6.0->jupyter_contrib_nbextensions->-r requirements.txt (line 12)) (21.2.0)\n",
      "Requirement already satisfied: soupsieve>1.2 in /home/asif/anaconda3/lib/python3.11/site-packages (from beautifulsoup4->nbconvert>=6.0->jupyter_contrib_nbextensions->-r requirements.txt (line 12)) (2.4)\n",
      "Requirement already satisfied: webencodings in /home/asif/anaconda3/lib/python3.11/site-packages (from bleach->nbconvert>=6.0->jupyter_contrib_nbextensions->-r requirements.txt (line 12)) (0.5.1)\n",
      "Requirement already satisfied: comm>=0.1.1 in /home/asif/anaconda3/lib/python3.11/site-packages (from ipykernel->notebook>=6.0->jupyter_contrib_nbextensions->-r requirements.txt (line 12)) (0.1.2)\n",
      "Requirement already satisfied: debugpy>=1.6.5 in /home/asif/anaconda3/lib/python3.11/site-packages (from ipykernel->notebook>=6.0->jupyter_contrib_nbextensions->-r requirements.txt (line 12)) (1.6.7)\n",
      "Requirement already satisfied: psutil in /home/asif/anaconda3/lib/python3.11/site-packages (from ipykernel->notebook>=6.0->jupyter_contrib_nbextensions->-r requirements.txt (line 12)) (5.9.0)\n",
      "Requirement already satisfied: executing in /home/asif/anaconda3/lib/python3.11/site-packages (from stack-data->IPython->ipyplot->-r requirements.txt (line 11)) (0.8.3)\n",
      "Requirement already satisfied: asttokens in /home/asif/anaconda3/lib/python3.11/site-packages (from stack-data->IPython->ipyplot->-r requirements.txt (line 11)) (2.0.5)\n",
      "Requirement already satisfied: pure-eval in /home/asif/anaconda3/lib/python3.11/site-packages (from stack-data->IPython->ipyplot->-r requirements.txt (line 11)) (0.2.2)\n",
      "Collecting anyio<4,>=3.1.0 (from jupyter-server>=1.8->nbclassic>=0.4.7->notebook>=6.0->jupyter_contrib_nbextensions->-r requirements.txt (line 12))\n",
      "  Downloading anyio-3.7.1-py3-none-any.whl.metadata (4.7 kB)\n",
      "Requirement already satisfied: websocket-client in /home/asif/anaconda3/lib/python3.11/site-packages (from jupyter-server>=1.8->nbclassic>=0.4.7->notebook>=6.0->jupyter_contrib_nbextensions->-r requirements.txt (line 12)) (0.58.0)\n",
      "Requirement already satisfied: cffi>=1.0.1 in /home/asif/anaconda3/lib/python3.11/site-packages (from argon2-cffi-bindings->argon2-cffi->notebook>=6.0->jupyter_contrib_nbextensions->-r requirements.txt (line 12)) (1.15.1)\n",
      "Requirement already satisfied: sniffio>=1.1 in /home/asif/anaconda3/lib/python3.11/site-packages (from anyio<4,>=3.1.0->jupyter-server>=1.8->nbclassic>=0.4.7->notebook>=6.0->jupyter_contrib_nbextensions->-r requirements.txt (line 12)) (1.3.0)\n",
      "Requirement already satisfied: pycparser in /home/asif/anaconda3/lib/python3.11/site-packages (from cffi>=1.0.1->argon2-cffi-bindings->argon2-cffi->notebook>=6.0->jupyter_contrib_nbextensions->-r requirements.txt (line 12)) (2.21)\n",
      "Downloading scikit_learn-1.4.1.post1-cp311-cp311-manylinux_2_17_x86_64.manylinux2014_x86_64.whl (12.1 MB)\n",
      "\u001b[2K   \u001b[38;2;114;156;31m━━━━━━━━━━━━━━━━━━━━━━━━━━━━━━━━━━━━━━━━\u001b[0m \u001b[32m12.1/12.1 MB\u001b[0m \u001b[31m11.4 MB/s\u001b[0m eta \u001b[36m0:00:00\u001b[0mm eta \u001b[36m0:00:01\u001b[0m0:01\u001b[0m:01\u001b[0m\n",
      "\u001b[?25hDownloading matplotlib-3.8.3-cp311-cp311-manylinux_2_17_x86_64.manylinux2014_x86_64.whl (11.6 MB)\n",
      "\u001b[2K   \u001b[38;2;114;156;31m━━━━━━━━━━━━━━━━━━━━━━━━━━━━━━━━━━━━━━━━\u001b[0m \u001b[32m11.6/11.6 MB\u001b[0m \u001b[31m11.4 MB/s\u001b[0m eta \u001b[36m0:00:00\u001b[0m[36m0:00:01\u001b[0mm eta \u001b[36m0:00:01\u001b[0m\n",
      "\u001b[?25hDownloading plotly-5.19.0-py3-none-any.whl (15.7 MB)\n",
      "\u001b[2K   \u001b[38;2;114;156;31m━━━━━━━━━━━━━━━━━━━━━━━━━━━━━━━━━━━━━━━━\u001b[0m \u001b[32m15.7/15.7 MB\u001b[0m \u001b[31m11.4 MB/s\u001b[0m eta \u001b[36m0:00:00\u001b[0mm eta \u001b[36m0:00:01\u001b[0m[36m0:00:01\u001b[0m\n",
      "\u001b[?25hDownloading streamlit-1.31.1-py2.py3-none-any.whl (8.4 MB)\n",
      "\u001b[2K   \u001b[38;2;114;156;31m━━━━━━━━━━━━━━━━━━━━━━━━━━━━━━━━━━━━━━━━\u001b[0m \u001b[32m8.4/8.4 MB\u001b[0m \u001b[31m11.4 MB/s\u001b[0m eta \u001b[36m0:00:00\u001b[0m[36m0:00:01\u001b[0m[36m0:00:01\u001b[0m:01\u001b[0m\n",
      "\u001b[?25hDownloading anyio-3.7.1-py3-none-any.whl (80 kB)\n",
      "\u001b[2K   \u001b[38;2;114;156;31m━━━━━━━━━━━━━━━━━━━━━━━━━━━━━━━━━━━━━━━━\u001b[0m \u001b[32m80.9/80.9 kB\u001b[0m \u001b[31m10.4 MB/s\u001b[0m eta \u001b[36m0:00:00\u001b[0m\n",
      "\u001b[?25hInstalling collected packages: plotly, anyio, scikit-learn, matplotlib, streamlit\n",
      "  Attempting uninstall: plotly\n",
      "    Found existing installation: plotly 5.18.0\n",
      "    Uninstalling plotly-5.18.0:\n",
      "      Successfully uninstalled plotly-5.18.0\n",
      "  Attempting uninstall: scikit-learn\n",
      "    Found existing installation: scikit-learn 1.4.0\n",
      "    Uninstalling scikit-learn-1.4.0:\n",
      "      Successfully uninstalled scikit-learn-1.4.0\n",
      "  Attempting uninstall: matplotlib\n",
      "    Found existing installation: matplotlib 3.8.2\n",
      "    Uninstalling matplotlib-3.8.2:\n",
      "      Successfully uninstalled matplotlib-3.8.2\n",
      "  Attempting uninstall: streamlit\n",
      "    Found existing installation: streamlit 1.31.0\n",
      "    Uninstalling streamlit-1.31.0:\n",
      "      Successfully uninstalled streamlit-1.31.0\n",
      "\u001b[31mERROR: pip's dependency resolver does not currently take into account all the packages that are installed. This behaviour is the source of the following dependency conflicts.\n",
      "hammadpy 0.1.42.0 requires anyio==4.2.0, but you have anyio 3.7.1 which is incompatible.\u001b[0m\u001b[31m\n",
      "\u001b[0mSuccessfully installed anyio-3.7.1 matplotlib-3.8.3 plotly-5.19.0 scikit-learn-1.4.1.post1 streamlit-1.31.1\n"
     ]
    }
   ],
   "source": [
    "!pip install  --upgrade -r requirements.txt --user"
   ]
  },
  {
   "cell_type": "markdown",
   "id": "52a6b6fe",
   "metadata": {},
   "source": [
    "### Step 3\n",
    "\n",
    "Now, it is time to copy the jupyter notebook extensions javascript and css files into the relevant locations."
   ]
  },
  {
   "cell_type": "code",
   "execution_count": 5,
   "id": "8648fb7b",
   "metadata": {
    "ExecuteTime": {
     "end_time": "2023-03-22T22:00:50.891154Z",
     "start_time": "2023-03-22T22:00:48.033350Z"
    },
    "scrolled": false
   },
   "outputs": [],
   "source": [
    "%%capture\n",
    "!jupyter contrib nbextension install --user"
   ]
  },
  {
   "cell_type": "markdown",
   "id": "17d958b3",
   "metadata": {},
   "source": [
    "Now, your environment should be ready for this workshop. **Bon Voyage!**"
   ]
  },
  {
   "cell_type": "code",
   "execution_count": null,
   "id": "2378ab3f",
   "metadata": {},
   "outputs": [],
   "source": []
  },
  {
   "cell_type": "code",
   "execution_count": null,
   "id": "cd2d33e2",
   "metadata": {},
   "outputs": [],
   "source": []
  },
  {
   "cell_type": "code",
   "execution_count": null,
   "id": "7ee66065",
   "metadata": {},
   "outputs": [],
   "source": []
  }
 ],
 "metadata": {
  "hide_input": false,
  "kernelspec": {
   "display_name": "Python 3 (ipykernel)",
   "language": "python",
   "name": "python3"
  },
  "language_info": {
   "codemirror_mode": {
    "name": "ipython",
    "version": 3
   },
   "file_extension": ".py",
   "mimetype": "text/x-python",
   "name": "python",
   "nbconvert_exporter": "python",
   "pygments_lexer": "ipython3",
   "version": "3.11.5"
  },
  "toc": {
   "base_numbering": 1,
   "nav_menu": {},
   "number_sections": true,
   "sideBar": true,
   "skip_h1_title": false,
   "title_cell": "Table of Contents",
   "title_sidebar": "Contents",
   "toc_cell": false,
   "toc_position": {},
   "toc_section_display": true,
   "toc_window_display": false
  },
  "varInspector": {
   "cols": {
    "lenName": 16,
    "lenType": 16,
    "lenVar": 40
   },
   "kernels_config": {
    "python": {
     "delete_cmd_postfix": "",
     "delete_cmd_prefix": "del ",
     "library": "var_list.py",
     "varRefreshCmd": "print(var_dic_list())"
    },
    "r": {
     "delete_cmd_postfix": ") ",
     "delete_cmd_prefix": "rm(",
     "library": "var_list.r",
     "varRefreshCmd": "cat(var_dic_list()) "
    }
   },
   "types_to_exclude": [
    "module",
    "function",
    "builtin_function_or_method",
    "instance",
    "_Feature"
   ],
   "window_display": false
  }
 },
 "nbformat": 4,
 "nbformat_minor": 5
}
